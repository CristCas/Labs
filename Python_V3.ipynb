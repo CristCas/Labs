{
  "nbformat": 4,
  "nbformat_minor": 0,
  "metadata": {
    "colab": {
      "provenance": [],
      "authorship_tag": "ABX9TyOWVlGq6uhO9mndpCxPfGh6",
      "include_colab_link": true
    },
    "kernelspec": {
      "name": "python3",
      "display_name": "Python 3"
    },
    "language_info": {
      "name": "python"
    }
  },
  "cells": [
    {
      "cell_type": "markdown",
      "metadata": {
        "id": "view-in-github",
        "colab_type": "text"
      },
      "source": [
        "<a href=\"https://colab.research.google.com/github/CristCas/Labs/blob/main/Python_V3.ipynb\" target=\"_parent\"><img src=\"https://colab.research.google.com/assets/colab-badge.svg\" alt=\"Open In Colab\"/></a>"
      ]
    },
    {
      "cell_type": "markdown",
      "source": [
        "***Вариант 3***\n",
        "\n",
        "В рамках приложения создать класс А с полями а и b и свойством с. Свойство\n",
        "– значение выражения над полями а и b (выражение и типы полей – см.\n",
        "вариант в таблице 2.1). Поля инициализировать при объявлении класса.\n",
        "Конструктор оставить по умолчанию. Проследить, чтобы поля а и b\n",
        "напрямую в других классах были недоступны. Создать класс Programm с\n",
        "одним методом – точкой входа. В теле метода создать объект класса А,\n",
        "вывести на экран значение свойства с. \n",
        "\n",
        "3______float______*, -\n"
      ],
      "metadata": {
        "id": "8ZVRHQGJsCtc"
      }
    },
    {
      "cell_type": "code",
      "execution_count": 14,
      "metadata": {
        "colab": {
          "base_uri": "https://localhost:8080/"
        },
        "id": "8A4A0QhirSe7",
        "outputId": "6a6c9ecc-2b20-4fa5-dfe4-154814e06e9d"
      },
      "outputs": [
        {
          "output_type": "stream",
          "name": "stdout",
          "text": [
            "4716543999220.214\n",
            "6.699999999999999\n",
            "Неравно\n"
          ]
        }
      ],
      "source": [
        "class Programm():\n",
        "\n",
        "#Точка Входа\n",
        "\n",
        "  def init(self):\n",
        "    p = A(17,10.3)\n",
        "    print(p.c1())\n",
        "    print(p.c2())\n",
        "    print(p.c3())\n",
        "\n",
        "if __name__ == 'main': \n",
        "  counter = Programm()\n",
        "\n",
        "#Не импортируется\n",
        "  counter = Programm()\n",
        "\n",
        "class A():\n",
        "\n",
        "#Счётчик\n",
        "\n",
        "  __a = float()\n",
        "  __b = float()\n",
        "\n",
        "  def __init__(self, a, b):\n",
        "    self.a = a\n",
        "    self.b = b\n",
        "\n",
        "  def c1(self):\n",
        "    c = self.a * self.b\n",
        "    return c\n",
        "\n",
        "  def c2(self):\n",
        "    c = self.a - self.b\n",
        "    return c\n",
        "\n",
        "  def c3(self):\n",
        "    if self.a == self.b:\n",
        "      return 'Равно'\n",
        "    else:\n",
        "      return 'Неравно'\n",
        "\n",
        "a = A(17,10.3)\n",
        "print(a.c1())\n",
        "print(a.c2())\n",
        "print(a.c3())\n",
        "     "
      ]
    }
  ]
}