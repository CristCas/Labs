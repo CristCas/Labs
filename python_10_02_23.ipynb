{
  "nbformat": 4,
  "nbformat_minor": 0,
  "metadata": {
    "colab": {
      "provenance": [],
      "authorship_tag": "ABX9TyOd2Kj4cSKUyfQpO23xYKV7",
      "include_colab_link": true
    },
    "kernelspec": {
      "name": "python3",
      "display_name": "Python 3"
    },
    "language_info": {
      "name": "python"
    }
  },
  "cells": [
    {
      "cell_type": "markdown",
      "metadata": {
        "id": "view-in-github",
        "colab_type": "text"
      },
      "source": [
        "<a href=\"https://colab.research.google.com/github/CristCas/Labs/blob/main/python_10_02_23.ipynb\" target=\"_parent\"><img src=\"https://colab.research.google.com/assets/colab-badge.svg\" alt=\"Open In Colab\"/></a>"
      ]
    },
    {
      "cell_type": "markdown",
      "source": [
        "**Основы объектно-ориентированного анализа и программирования.**\n",
        "\n",
        "**Задание:** Лекция_1 (10/02/23).\n",
        "\n",
        "**Выполнила:** Юдаева.\n",
        "\n",
        "**Группа:** АДЭУ-221."
      ],
      "metadata": {
        "id": "gXS2pbpk7Hb6"
      }
    },
    {
      "cell_type": "markdown",
      "source": [
        "**Классы - введение. Исключения.**\n",
        "\n",
        "●**Класс** - разновидность абстрактного типа данных в ООП.\n",
        "\n",
        "●Не нужно создавать много кода, но класс тратит оперативку!\n",
        "\n",
        "Состоит из:\n",
        "\n",
        "●**Свойств** - переменных, принадлежащих классу или объекту этого класса.\n",
        "\n",
        "●**Методов** - функций, принадлежащих классу или объекту этого класса."
      ],
      "metadata": {
        "id": "dxPw_SVP7ahT"
      }
    },
    {
      "cell_type": "markdown",
      "source": [
        "**Self**\n",
        "\n",
        "●**Self** - указатель на \"самого себя\".\n",
        "\n",
        "●Присутствуект во всех объектах.\n",
        "\n",
        "●При объявлении методов класса, указывается первым (во всех методах, кроме статических).\n",
        "\n",
        "●Обращение ко всем своцствам класса - через него."
      ],
      "metadata": {
        "id": "cUlNGqko8HLB"
      }
    },
    {
      "cell_type": "markdown",
      "source": [
        "**Конструктор класса**\n",
        "\n",
        "●Метод с название _init_\n",
        "\n",
        "●Выполняется при создании объекта - всегда self.\n",
        "\n",
        "●Первый параметр - всегда self.\n",
        "\n",
        "●Последующие параметры - используются для создания объектов.\n",
        "\n",
        "Пример:"
      ],
      "metadata": {
        "id": "VJWP-_g98bla"
      }
    },
    {
      "cell_type": "code",
      "source": [
        "class human:\n",
        "  def __init__(self, name, age, iq):\n",
        "    self.name = name\n",
        "    self.age = age\n",
        "    if self.age < 0:\n",
        "      print('Oops, necromancer detected =)')\n",
        "    self.iq = iq\n",
        "human1 = human('Masha', 13, 170)\n",
        "human2 = human('Petya', 20, 270)\n",
        "human3 = human('Oleg', 64, 146)\n",
        "human4 = human('Marcus', 7, 425)\n",
        "print(human1.name, human1.age, human1.iq)\n",
        "print(human2.name, human2.age, human2.iq)\n",
        "print(human3.name, human3.age, human3.iq)\n",
        "print(human4.name, human4.age, human4.iq)"
      ],
      "metadata": {
        "colab": {
          "base_uri": "https://localhost:8080/"
        },
        "id": "0Z8MKnNV7aNE",
        "outputId": "d65aaa27-e979-4308-b5e4-1e629a1a7de0"
      },
      "execution_count": null,
      "outputs": [
        {
          "output_type": "stream",
          "name": "stdout",
          "text": [
            "Masha 13 170\n",
            "Petya 20 270\n",
            "Oleg 64 146\n",
            "Marcus 7 425\n"
          ]
        }
      ]
    },
    {
      "cell_type": "markdown",
      "source": [
        "**Статические свойства класса**"
      ],
      "metadata": {
        "id": "-AdhymGN9Ay6"
      }
    },
    {
      "cell_type": "code",
      "source": [
        "class Human:\n",
        "  legs = 2\n",
        "  head = 1\n",
        "\n",
        "  def __init__(self, name):\n",
        "    self.name = name"
      ],
      "metadata": {
        "id": "p2QY6uUS9DcJ"
      },
      "execution_count": null,
      "outputs": []
    },
    {
      "cell_type": "markdown",
      "source": [
        "●Одно и то же значение для всех объектов класса.\n",
        "\n",
        "●Обращение не через self, а через имя класса (Human.legs = 4).\n",
        "\n",
        "●Если изменить значение в одном объекте - оно изменится во всех существующих объектах.\n",
        "\n",
        "●self.legs = 5\n",
        " \n",
        "●Создастся независимая копия переменной legs, при её изменении другие объекты не изменятся.\n"
      ],
      "metadata": {
        "id": "UKWdl5jb9L7e"
      }
    },
    {
      "cell_type": "code",
      "source": [
        "from math import sqrt, pi\n",
        "class Point:\n",
        "  amount = 0\n",
        "\n",
        "  def __init__(self, *args):    #КОНСТРУКТОР\n",
        "    if len(args) == 2:\n",
        "      self.x = args[0]\n",
        "      self.y = args[1]\n",
        "    else:\n",
        "      self.x = self.y = 0\n",
        "    Point.amount += 1\n",
        "\n",
        "  def __del__(self):            #ДЕСТРУКТОР\n",
        "    Point.amount -= 1\n",
        "\n",
        "  def distance(self):\n",
        "    return (self.x ** 2 + self.y ** 2) ** 5\n",
        "\n",
        "  def __str__(self):            #ОПЕРАТОР ПРЕОБРАЗУЕТСЯ В СТРОКУ\n",
        "    return '({}; {})'.format(self.x, self.y)\n",
        "\n",
        "p = Point(36, 42)\n",
        "print(p)"
      ],
      "metadata": {
        "colab": {
          "base_uri": "https://localhost:8080/"
        },
        "id": "OYNFuN-59OJQ",
        "outputId": "7ef7548f-e64d-4212-c02c-7d2556a6b8a0"
      },
      "execution_count": null,
      "outputs": [
        {
          "output_type": "stream",
          "name": "stdout",
          "text": [
            "(36; 42)\n"
          ]
        }
      ]
    },
    {
      "cell_type": "markdown",
      "source": [
        "**Исключения**\n",
        "\n",
        "●**Исключение (Exception)** - ошибка в программе, ПРИВОДЯЩАЯ К НЕВОЗМОЖНОСТИ (БЕССМЫСЛЕННОСТИ) ДАЛЬНЕЙШЕГО ВЫПОЛНЕНИЯ АЛГОРИТМА.\n",
        "\n",
        "●При возникновении такой ошики прерываются все функции программы, ввыполняющиеся в данный момент.\n",
        "\n",
        "●**Обработка исключений (Exception Handling)** - механизм языка, предназначенный для описания реакции программы на исключения (\"что нужно делать, чтобы остаться на плаву\")."
      ],
      "metadata": {
        "id": "JXT9YdhtQ95f"
      }
    },
    {
      "cell_type": "markdown",
      "source": [
        "**Внимание**\n",
        "\n",
        "●Если сгенерировать исключение, но не перехватить его, программа аварийно завершится.\n"
      ],
      "metadata": {
        "id": "L5no1AnLRd11"
      }
    },
    {
      "cell_type": "code",
      "source": [
        "a = int(input())    #Вводим 5\n",
        "b = int(input())    #Вводим 0\n",
        "c = a/b\n",
        "\n",
        "#Traceback (most recent call last):\n",
        "#  File \"<stdin>\", line 1m in <module>\n",
        "#ZeroDivisionError: divisiomn by zero"
      ],
      "metadata": {
        "id": "7vadYJ9bRk9G"
      },
      "execution_count": null,
      "outputs": []
    },
    {
      "cell_type": "code",
      "source": [
        "#Practic 1.1.\n",
        "#Variant 12.\n",
        "\n",
        "from math import sqrt, pi\n",
        "class Circle:\n",
        "  def __init__(self, x, y, radius):\n",
        "    self.center = Point(x, y)\n",
        "    self.radius = radius\n",
        "\n",
        "  def length(self):\n",
        "    return 2 * pi * self.radius\n",
        "\n",
        "  def square(self):\n",
        "    return pi * (self.radius ** 2)\n",
        "\n",
        "  def move(self, x, y):\n",
        "    self.center.x = x\n",
        "    self.center.y = yield\n",
        "\n",
        "  def distance(self):\n",
        "    return sqrt(self.center.x ** 2 + self.center.y ** 2)\n",
        "\n",
        "  def __str__(self):\n",
        "    return \"circle: center: {}; radius: {}\"\\\n",
        "        .format(self.center, self.radius)\n",
        "\n",
        "c=Circle(3, 1, 2)\n",
        "print(c)\n",
        "print(c.length())\n",
        "print(c.square())\n",
        "print(c.distance())"
      ],
      "metadata": {
        "colab": {
          "base_uri": "https://localhost:8080/"
        },
        "id": "Bbwr7Fvt-gCl",
        "outputId": "0296c6d6-bce0-44b6-ccf8-a7dcc1ed2fe7"
      },
      "execution_count": null,
      "outputs": [
        {
          "output_type": "stream",
          "name": "stdout",
          "text": [
            "circle: center: (3; 1); radius: 2\n",
            "12.566370614359172\n",
            "12.566370614359172\n",
            "3.1622776601683795\n"
          ]
        }
      ]
    },
    {
      "cell_type": "markdown",
      "source": [
        "**ООП**\n",
        "\n",
        "**ОБЪЕКТИВНО-ОРИЕНТИРОВАННЫЙ ПОДХОД**\n",
        "\n",
        "●Этот подход включает в себя все астилевые усовершенствования, базирующиеся на понятии \"объект\" - понятии, которое многие люди обозначабт словом \"вещь\".\n",
        "\n",
        "●Всякая вещь, объект, хараектризуется своими свойствами и поведением.\n",
        "\n",
        "●Объектно-Ориентированный подход можно применить:\n",
        "\n",
        "1). Как к программированию;\n",
        "\n",
        "2). К анализу;\n",
        "\n",
        "3). К дизайну."
      ],
      "metadata": {
        "id": "4f14EaYJOw2a"
      }
    },
    {
      "cell_type": "markdown",
      "source": [
        "**ООП**\n",
        "\n",
        "●**Объективно-Ориентированный подход** - это способ мышления, а также способ восприятия окружа.щего мира с точки зрения теории объектов."
      ],
      "metadata": {
        "id": "pZTTGZNaRCA7"
      }
    },
    {
      "cell_type": "markdown",
      "source": [
        "**Парадигма программирования на машинном языке (1-Я)**\n",
        "\n",
        "●Программы писались на машинных языках в двоичном представлении, при написании программ на машинных языках часто допускались ошибки, причём из-за невозможности их структурировать. \n",
        "\n",
        "●Сопровождение кода было практически невозможным. \n",
        "\n",
        "●Кроме того, программа в машинных кодах была сложна для понимания.\n",
        "\n",
        "●●●\n",
        "\n",
        "**Парадигма процедурного программирования 2-Я**\n",
        "\n",
        "●Процедурные языки дают программисту ворзможность разбить программу обработки информации на несколько процедур более низкого уровня. \n",
        "\n",
        "●Последовательные обращения к жтим процедурам управляют выполнением программы, состоящей из процедур. \n",
        "\n",
        "●Программа прекращает работу тогда,когда исчерпывает список вызывов.\n",
        "\n",
        "●●●\n",
        "\n",
        "**Парадигма модульного программирования (3-Я)**\n",
        "\n",
        "●Модульное программирование разбивает программу на ряд составляющих компонентов, или модулей. \n",
        "\n",
        "●В отличие от процедурного программирования, которое разделяет данные и процедуры, модлули обхединяют их модули, скрывают всю внутреннюю информацию от остальных частей этой программы. \n",
        "\n",
        "●Основываясь на этом, довольно просто объяснить, что такое состояние.\n",
        "\n"
      ],
      "metadata": {
        "id": "YprFZ792SHf9"
      }
    },
    {
      "cell_type": "markdown",
      "source": [
        "**ООП**\n",
        "\n",
        "●**Состояние объекта** - это совокупность значений внутренний переменных объекта.\n",
        "\n",
        "●**Внутренняя переменная** - это величина, хранимая внутри объекта."
      ],
      "metadata": {
        "id": "rOANSWztTZGv"
      }
    },
    {
      "cell_type": "markdown",
      "source": [
        "**Парадигма Объективно-Ориентированного программирования (4-Я)**\n",
        "\n",
        "ООП добавляет к модулю:\n",
        "\n",
        "1). Наследование;\n",
        "\n",
        "2). Полиморфизм."
      ],
      "metadata": {
        "id": "SpmzJiAaT-U2"
      }
    },
    {
      "cell_type": "markdown",
      "source": [
        "●**Python** - Объективно-ориентированный язык программирования.\n",
        "\n",
        "●**Класс** - тип, описывающий устройство объектов.\n",
        "\n",
        "●**Объекты** - экземпляры классов."
      ],
      "metadata": {
        "id": "1Hg876e6VcG_"
      }
    },
    {
      "cell_type": "code",
      "source": [
        "#Кодики любимые, мм~\n",
        "\n",
        "class A:\n",
        "  x = 15\n",
        "  def print_x(self):\n",
        "    print(self.x)\n",
        "\n",
        "  def sum(self, a, b):\n",
        "    return self.x+a+b\n",
        "\n",
        "a = A()            #Create instance\n",
        "a.print_x()        #15\n",
        "b = a.sum(5,2)     #22\n",
        "B = A()\n",
        "C = A()\n",
        "\n",
        "print()"
      ],
      "metadata": {
        "id": "dd2JAc16UfCW"
      },
      "execution_count": null,
      "outputs": []
    },
    {
      "cell_type": "markdown",
      "source": [
        "●Каждый метод объекта должен иметь обязательный первый аргумент self.\n",
        "\n"
      ],
      "metadata": {
        "id": "KViLrDuQZAib"
      }
    },
    {
      "cell_type": "code",
      "source": [
        "class A:\n",
        "  def hello():\n",
        "    print('Hello, world!')\n",
        "\n",
        "a = A()\n",
        "a.hello() #Error: self is absent\n",
        "A.hello() #'Hello, World!'"
      ],
      "metadata": {
        "id": "lUyR6H2TZJCc"
      },
      "execution_count": null,
      "outputs": []
    },
    {
      "cell_type": "markdown",
      "source": [
        "●При вызове a.hello() происходит вызов A.hello(a)\n",
        "\n",
        "●При вызове a.func(x) происходит вызов A.func(a, x)"
      ],
      "metadata": {
        "id": "uoPC9zHVZ-ux"
      }
    },
    {
      "cell_type": "code",
      "source": [
        "class A:\n",
        "  def __init__(self, x):\n",
        "    self.x = x\n",
        "    print('Hello!')\n",
        "\n",
        "  def __del__(self):\n",
        "    print('Good bye!')\n",
        "\n",
        "a = A()     #Error: construction has argument x\n",
        "a = A(15)   #'Hello!'\n",
        "del a       #'Good bye!'"
      ],
      "metadata": {
        "id": "hrKb54-QZlN9"
      },
      "execution_count": null,
      "outputs": []
    },
    {
      "cell_type": "markdown",
      "source": [
        "**Удаление объектов при завершении приложения**"
      ],
      "metadata": {
        "id": "lzo1a9W8aTy4"
      }
    },
    {
      "cell_type": "code",
      "source": [
        "class A:\n",
        "  def __init__(self):\n",
        "    print('Hello!')\n",
        "\n",
        "  def __del__(self):\n",
        "    print('Good bye!')\n",
        "\n",
        "def create_obj():\n",
        "  a = A()\n",
        "  return a\n",
        "if __name__ == \"__main__\":\n",
        "  a = create_obj()\n",
        "  \n",
        "print('Program end')\n",
        "exit(0)\n",
        "#Hello! \\n Program end \\n Good bye!"
      ],
      "metadata": {
        "colab": {
          "base_uri": "https://localhost:8080/"
        },
        "id": "S2keLtTNaXjg",
        "outputId": "7028b501-5783-4512-96b3-6895c6f9729a"
      },
      "execution_count": null,
      "outputs": [
        {
          "output_type": "stream",
          "name": "stdout",
          "text": [
            "Hello!\n",
            "Program end\n"
          ]
        }
      ]
    },
    {
      "cell_type": "code",
      "source": [
        "class A:\n",
        "  def __init__(self, bb):\n",
        "    self.b == bb\n",
        "    \n",
        "class B:\n",
        "  def __init__(self):\n",
        "    self.a = A(self)\n",
        "  def __del__(self):\n",
        "    print('Good bye!')\n",
        "def fun():\n",
        "  b = B()\n",
        "  print('fun end')\n",
        "fun()\n",
        "print('Program end')"
      ],
      "metadata": {
        "colab": {
          "base_uri": "https://localhost:8080/",
          "height": 363
        },
        "id": "irTiZxuHbaX2",
        "outputId": "4480be7c-bddf-4b57-a7bd-343e09666166"
      },
      "execution_count": null,
      "outputs": [
        {
          "output_type": "error",
          "ename": "AttributeError",
          "evalue": "ignored",
          "traceback": [
            "\u001b[0;31m---------------------------------------------------------------------------\u001b[0m",
            "\u001b[0;31mAttributeError\u001b[0m                            Traceback (most recent call last)",
            "\u001b[0;32m<ipython-input-4-c59e95c0f870>\u001b[0m in \u001b[0;36m<module>\u001b[0;34m\u001b[0m\n\u001b[1;32m     11\u001b[0m   \u001b[0mb\u001b[0m \u001b[0;34m=\u001b[0m \u001b[0mB\u001b[0m\u001b[0;34m(\u001b[0m\u001b[0;34m)\u001b[0m\u001b[0;34m\u001b[0m\u001b[0;34m\u001b[0m\u001b[0m\n\u001b[1;32m     12\u001b[0m   \u001b[0mprint\u001b[0m\u001b[0;34m(\u001b[0m\u001b[0;34m'fun end'\u001b[0m\u001b[0;34m)\u001b[0m\u001b[0;34m\u001b[0m\u001b[0;34m\u001b[0m\u001b[0m\n\u001b[0;32m---> 13\u001b[0;31m \u001b[0mfun\u001b[0m\u001b[0;34m(\u001b[0m\u001b[0;34m)\u001b[0m\u001b[0;34m\u001b[0m\u001b[0;34m\u001b[0m\u001b[0m\n\u001b[0m\u001b[1;32m     14\u001b[0m \u001b[0mprint\u001b[0m\u001b[0;34m(\u001b[0m\u001b[0;34m'Program end'\u001b[0m\u001b[0;34m)\u001b[0m\u001b[0;34m\u001b[0m\u001b[0;34m\u001b[0m\u001b[0m\n",
            "\u001b[0;32m<ipython-input-4-c59e95c0f870>\u001b[0m in \u001b[0;36mfun\u001b[0;34m()\u001b[0m\n\u001b[1;32m      9\u001b[0m     \u001b[0mprint\u001b[0m\u001b[0;34m(\u001b[0m\u001b[0;34m'Good bye!'\u001b[0m\u001b[0;34m)\u001b[0m\u001b[0;34m\u001b[0m\u001b[0;34m\u001b[0m\u001b[0m\n\u001b[1;32m     10\u001b[0m \u001b[0;32mdef\u001b[0m \u001b[0mfun\u001b[0m\u001b[0;34m(\u001b[0m\u001b[0;34m)\u001b[0m\u001b[0;34m:\u001b[0m\u001b[0;34m\u001b[0m\u001b[0;34m\u001b[0m\u001b[0m\n\u001b[0;32m---> 11\u001b[0;31m   \u001b[0mb\u001b[0m \u001b[0;34m=\u001b[0m \u001b[0mB\u001b[0m\u001b[0;34m(\u001b[0m\u001b[0;34m)\u001b[0m\u001b[0;34m\u001b[0m\u001b[0;34m\u001b[0m\u001b[0m\n\u001b[0m\u001b[1;32m     12\u001b[0m   \u001b[0mprint\u001b[0m\u001b[0;34m(\u001b[0m\u001b[0;34m'fun end'\u001b[0m\u001b[0;34m)\u001b[0m\u001b[0;34m\u001b[0m\u001b[0;34m\u001b[0m\u001b[0m\n\u001b[1;32m     13\u001b[0m \u001b[0mfun\u001b[0m\u001b[0;34m(\u001b[0m\u001b[0;34m)\u001b[0m\u001b[0;34m\u001b[0m\u001b[0;34m\u001b[0m\u001b[0m\n",
            "\u001b[0;32m<ipython-input-4-c59e95c0f870>\u001b[0m in \u001b[0;36m__init__\u001b[0;34m(self)\u001b[0m\n\u001b[1;32m      5\u001b[0m \u001b[0;32mclass\u001b[0m \u001b[0mB\u001b[0m\u001b[0;34m:\u001b[0m\u001b[0;34m\u001b[0m\u001b[0;34m\u001b[0m\u001b[0m\n\u001b[1;32m      6\u001b[0m   \u001b[0;32mdef\u001b[0m \u001b[0m__init__\u001b[0m\u001b[0;34m(\u001b[0m\u001b[0mself\u001b[0m\u001b[0;34m)\u001b[0m\u001b[0;34m:\u001b[0m\u001b[0;34m\u001b[0m\u001b[0;34m\u001b[0m\u001b[0m\n\u001b[0;32m----> 7\u001b[0;31m     \u001b[0mself\u001b[0m\u001b[0;34m.\u001b[0m\u001b[0ma\u001b[0m \u001b[0;34m=\u001b[0m \u001b[0mA\u001b[0m\u001b[0;34m(\u001b[0m\u001b[0mself\u001b[0m\u001b[0;34m)\u001b[0m\u001b[0;34m\u001b[0m\u001b[0;34m\u001b[0m\u001b[0m\n\u001b[0m\u001b[1;32m      8\u001b[0m   \u001b[0;32mdef\u001b[0m \u001b[0m__del__\u001b[0m\u001b[0;34m(\u001b[0m\u001b[0mself\u001b[0m\u001b[0;34m)\u001b[0m\u001b[0;34m:\u001b[0m\u001b[0;34m\u001b[0m\u001b[0;34m\u001b[0m\u001b[0m\n\u001b[1;32m      9\u001b[0m     \u001b[0mprint\u001b[0m\u001b[0;34m(\u001b[0m\u001b[0;34m'Good bye!'\u001b[0m\u001b[0;34m)\u001b[0m\u001b[0;34m\u001b[0m\u001b[0;34m\u001b[0m\u001b[0m\n",
            "\u001b[0;32m<ipython-input-4-c59e95c0f870>\u001b[0m in \u001b[0;36m__init__\u001b[0;34m(self, bb)\u001b[0m\n\u001b[1;32m      1\u001b[0m \u001b[0;32mclass\u001b[0m \u001b[0mA\u001b[0m\u001b[0;34m:\u001b[0m\u001b[0;34m\u001b[0m\u001b[0;34m\u001b[0m\u001b[0m\n\u001b[1;32m      2\u001b[0m   \u001b[0;32mdef\u001b[0m \u001b[0m__init__\u001b[0m\u001b[0;34m(\u001b[0m\u001b[0mself\u001b[0m\u001b[0;34m,\u001b[0m \u001b[0mbb\u001b[0m\u001b[0;34m)\u001b[0m\u001b[0;34m:\u001b[0m\u001b[0;34m\u001b[0m\u001b[0;34m\u001b[0m\u001b[0m\n\u001b[0;32m----> 3\u001b[0;31m     \u001b[0mself\u001b[0m\u001b[0;34m.\u001b[0m\u001b[0mb\u001b[0m \u001b[0;34m==\u001b[0m \u001b[0mbb\u001b[0m\u001b[0;34m\u001b[0m\u001b[0;34m\u001b[0m\u001b[0m\n\u001b[0m\u001b[1;32m      4\u001b[0m \u001b[0;34m\u001b[0m\u001b[0m\n\u001b[1;32m      5\u001b[0m \u001b[0;32mclass\u001b[0m \u001b[0mB\u001b[0m\u001b[0;34m:\u001b[0m\u001b[0;34m\u001b[0m\u001b[0;34m\u001b[0m\u001b[0m\n",
            "\u001b[0;31mAttributeError\u001b[0m: 'A' object has no attribute 'b'"
          ]
        }
      ]
    },
    {
      "cell_type": "markdown",
      "source": [
        "Использование в методах (как и в любых функциях) значений по умолчанию для изменяемых типов может привести к неожиданным результатам."
      ],
      "metadata": {
        "id": "rfXz7Mt9cYiE"
      }
    },
    {
      "cell_type": "code",
      "source": [
        "class Bus:\n",
        "  def __init__(self, passengers=[]):\n",
        "    self.passengers = passengers\n",
        "\n",
        "  def pick(self, name):\n",
        "    self.passengers.append(name)\n",
        "\n",
        "  def drop(self, name):\n",
        "    self.passengers.remove(name)\n",
        "\n",
        "bus1 = Bus(['Alice', 'Bill'])\n",
        "bus1.passengers\n",
        "bus1.pick('Charlie')\n",
        "bus1.drop('Alice')\n",
        "bus1.passengers\n",
        "\n",
        "bus2 = Bus()\n",
        "bus2.pick('Carrie')\n",
        "bus2.passengers\n",
        "\n",
        "bus3 = Bus()\n",
        "bus3.passengers\n",
        "bus2.passengers is bus3.passengers\n",
        "bus1.passengers"
      ],
      "metadata": {
        "colab": {
          "base_uri": "https://localhost:8080/"
        },
        "id": "SZ4wlDmLchnq",
        "outputId": "24eac23a-1533-427d-e0ec-7613789198fd"
      },
      "execution_count": null,
      "outputs": [
        {
          "output_type": "execute_result",
          "data": {
            "text/plain": [
              "['Bill', 'Charlie']"
            ]
          },
          "metadata": {},
          "execution_count": 11
        }
      ]
    },
    {
      "cell_type": "markdown",
      "source": [
        "Атрибуты класса (Class attributes)\n",
        "Разделяемы -= "
      ],
      "metadata": {
        "id": "7YOqliFrenJS"
      }
    },
    {
      "cell_type": "code",
      "source": [
        "class A:\n",
        "  x = 10\n",
        "  __x = 1\n",
        "  def __init__(self):\n",
        "    self.y = 5\n",
        "    z = 1\n",
        "\n",
        "a = A()\n",
        "print(a.x)\n",
        "print(a.y)\n",
        "print(a.z)\n",
        "print(a.__x)\n",
        "print(A.x)\n",
        "print(A.y)"
      ],
      "metadata": {
        "colab": {
          "base_uri": "https://localhost:8080/",
          "height": 269
        },
        "id": "26ChBaaxeudY",
        "outputId": "cf9abf35-a1b2-497c-df56-448487f141b1"
      },
      "execution_count": null,
      "outputs": [
        {
          "output_type": "stream",
          "name": "stdout",
          "text": [
            "10\n",
            "5\n"
          ]
        },
        {
          "output_type": "error",
          "ename": "AttributeError",
          "evalue": "ignored",
          "traceback": [
            "\u001b[0;31m---------------------------------------------------------------------------\u001b[0m",
            "\u001b[0;31mAttributeError\u001b[0m                            Traceback (most recent call last)",
            "\u001b[0;32m<ipython-input-16-89d1f270b306>\u001b[0m in \u001b[0;36m<module>\u001b[0;34m\u001b[0m\n\u001b[1;32m      9\u001b[0m \u001b[0mprint\u001b[0m\u001b[0;34m(\u001b[0m\u001b[0ma\u001b[0m\u001b[0;34m.\u001b[0m\u001b[0mx\u001b[0m\u001b[0;34m)\u001b[0m\u001b[0;34m\u001b[0m\u001b[0;34m\u001b[0m\u001b[0m\n\u001b[1;32m     10\u001b[0m \u001b[0mprint\u001b[0m\u001b[0;34m(\u001b[0m\u001b[0ma\u001b[0m\u001b[0;34m.\u001b[0m\u001b[0my\u001b[0m\u001b[0;34m)\u001b[0m\u001b[0;34m\u001b[0m\u001b[0;34m\u001b[0m\u001b[0m\n\u001b[0;32m---> 11\u001b[0;31m \u001b[0mprint\u001b[0m\u001b[0;34m(\u001b[0m\u001b[0ma\u001b[0m\u001b[0;34m.\u001b[0m\u001b[0mz\u001b[0m\u001b[0;34m)\u001b[0m\u001b[0;34m\u001b[0m\u001b[0;34m\u001b[0m\u001b[0m\n\u001b[0m\u001b[1;32m     12\u001b[0m \u001b[0mprint\u001b[0m\u001b[0;34m(\u001b[0m\u001b[0ma\u001b[0m\u001b[0;34m.\u001b[0m\u001b[0m__x\u001b[0m\u001b[0;34m)\u001b[0m\u001b[0;34m\u001b[0m\u001b[0;34m\u001b[0m\u001b[0m\n\u001b[1;32m     13\u001b[0m \u001b[0mprint\u001b[0m\u001b[0;34m(\u001b[0m\u001b[0mA\u001b[0m\u001b[0;34m.\u001b[0m\u001b[0mx\u001b[0m\u001b[0;34m)\u001b[0m\u001b[0;34m\u001b[0m\u001b[0;34m\u001b[0m\u001b[0m\n",
            "\u001b[0;31mAttributeError\u001b[0m: 'A' object has no attribute 'z'"
          ]
        }
      ]
    },
    {
      "cell_type": "code",
      "source": [
        "class A:\n",
        "  x = 10\n",
        "a = A()\n",
        "b = A()\n",
        "a.x = 4\n",
        "b.x \n",
        "A.x\n"
      ],
      "metadata": {
        "colab": {
          "base_uri": "https://localhost:8080/"
        },
        "id": "E4cyVMDYe0kE",
        "outputId": "5fda91df-e9e1-40ef-d675-813bee6ed91b"
      },
      "execution_count": null,
      "outputs": [
        {
          "output_type": "execute_result",
          "data": {
            "text/plain": [
              "10"
            ]
          },
          "metadata": {},
          "execution_count": 17
        }
      ]
    },
    {
      "cell_type": "code",
      "source": [
        "class A:\n",
        "  x = 10\n",
        "\n",
        "a = A()\n",
        "b = A()\n",
        "a.x = 4\n",
        "a.__dict__a.__class__.__dict__\n",
        "b.__class__.__dict__\n",
        "A.__dict__"
      ],
      "metadata": {
        "id": "XLwZk6jxgJbo"
      },
      "execution_count": null,
      "outputs": []
    },
    {
      "cell_type": "markdown",
      "source": [
        "***1.3.1***\n",
        "\n",
        "\n",
        "***Тип***"
      ],
      "metadata": {
        "id": "-AqcD0Xcl0rd"
      }
    },
    {
      "cell_type": "markdown",
      "source": [
        "Python предоставляет различные типы объектов для размещения\n",
        "различных категорий данных."
      ],
      "metadata": {
        "id": "nvkj_z1hmWRF"
      }
    },
    {
      "cell_type": "code",
      "source": [
        "s = 'Это строка'\n",
        "type(s)"
      ],
      "metadata": {
        "colab": {
          "base_uri": "https://localhost:8080/"
        },
        "id": "yTTVPIFtmSO5",
        "outputId": "065f4c59-fa9a-4590-f7fa-d5797924f307"
      },
      "execution_count": null,
      "outputs": [
        {
          "output_type": "execute_result",
          "data": {
            "text/plain": [
              "str"
            ]
          },
          "metadata": {},
          "execution_count": 3
        }
      ]
    },
    {
      "cell_type": "code",
      "source": [
        "x = 42 # Создание переменной целочисленного типа\n",
        "type(x)"
      ],
      "metadata": {
        "colab": {
          "base_uri": "https://localhost:8080/"
        },
        "id": "bu7_pGxKmvLO",
        "outputId": "675fb260-2258-45fc-8382-733c6b5c8688"
      },
      "execution_count": null,
      "outputs": [
        {
          "output_type": "execute_result",
          "data": {
            "text/plain": [
              "int"
            ]
          },
          "metadata": {},
          "execution_count": 2
        }
      ]
    },
    {
      "cell_type": "markdown",
      "source": [
        "Тип объекта имеет значение для многих выражений. Например, оператор\n",
        "сложения между двумя строками означает конкатенацию: \n"
      ],
      "metadata": {
        "id": "k6nKhCsEmg_m"
      }
    },
    {
      "cell_type": "code",
      "source": [
        "'300' + 'cc' "
      ],
      "metadata": {
        "colab": {
          "base_uri": "https://localhost:8080/",
          "height": 35
        },
        "id": "HnKDSONami0n",
        "outputId": "2faad5af-5eaa-4800-9c12-599bee07a597"
      },
      "execution_count": null,
      "outputs": [
        {
          "output_type": "execute_result",
          "data": {
            "text/plain": [
              "'300cc'"
            ],
            "application/vnd.google.colaboratory.intrinsic+json": {
              "type": "string"
            }
          },
          "metadata": {},
          "execution_count": 4
        }
      ]
    },
    {
      "cell_type": "markdown",
      "source": [
        "С другой стороны, между двумя числами это означает сложение,\n",
        "например: \n"
      ],
      "metadata": {
        "id": "EUWqsxfrmkz2"
      }
    },
    {
      "cell_type": "code",
      "source": [
        "300 + 400"
      ],
      "metadata": {
        "colab": {
          "base_uri": "https://localhost:8080/"
        },
        "id": "Y52oh1jfmmWO",
        "outputId": "ce3d23c2-3c1d-4d49-9954-93f1c553b78a"
      },
      "execution_count": null,
      "outputs": [
        {
          "output_type": "execute_result",
          "data": {
            "text/plain": [
              "700"
            ]
          },
          "metadata": {},
          "execution_count": 6
        }
      ]
    },
    {
      "cell_type": "markdown",
      "source": [
        "***1.3.2***\n",
        "\n",
        "***Идентификация***"
      ],
      "metadata": {
        "id": "x5EHpd_Ol9Yp"
      }
    },
    {
      "cell_type": "markdown",
      "source": [
        "В Python каждый объект имеет уникальный идентификатор, который\n",
        "помогает Python отслеживать объект. Идентификацию объекта можно получить\n",
        "с помощью функции id()."
      ],
      "metadata": {
        "id": "1Sm6yr6vm9Ju"
      }
    },
    {
      "cell_type": "code",
      "source": [
        "y = 2.5\n",
        "z = 2.5\n",
        "15\n",
        "id(y)\n",
        "id(z)\n",
        "print(id(y))\n",
        "print(id(x))"
      ],
      "metadata": {
        "colab": {
          "base_uri": "https://localhost:8080/"
        },
        "id": "ZlNcylA9m_LE",
        "outputId": "da26ddb1-ebeb-4205-8616-324199cece3d"
      },
      "execution_count": null,
      "outputs": [
        {
          "output_type": "stream",
          "name": "stdout",
          "text": [
            "140516856393648\n",
            "9794400\n"
          ]
        }
      ]
    },
    {
      "cell_type": "markdown",
      "source": [
        "В этом примере y и z имеют одинаковое значение (т. е. 2,5), но это не один\n",
        "и тот же объект. Идентификатор объекта на самом деле является просто адресом\n",
        "объекта в памяти. "
      ],
      "metadata": {
        "id": "06IpKkAFnBbP"
      }
    },
    {
      "cell_type": "markdown",
      "source": [
        "***1.3.3***\n",
        "\n",
        "***Содержимое объекта: данные и атрибуты***"
      ],
      "metadata": {
        "id": "hxGrVwPomCix"
      }
    },
    {
      "cell_type": "markdown",
      "source": [
        "Если установить x = 42, то создадим объект типа int, который содержит\n",
        "данные 42. На самом деле он содержит больше, как показано в следующем\n",
        "примере. "
      ],
      "metadata": {
        "id": "9w3Y7BYEnZjO"
      }
    },
    {
      "cell_type": "code",
      "source": [
        "x = 42\n",
        "x\n",
        "x.imag\n",
        "x.__class__ \n",
        "print(x.imag)\n",
        "print(x.__class__)"
      ],
      "metadata": {
        "colab": {
          "base_uri": "https://localhost:8080/"
        },
        "id": "BE79W629na9y",
        "outputId": "b8300a91-fadc-4e46-d645-d5f14fc12eb4"
      },
      "execution_count": null,
      "outputs": [
        {
          "output_type": "stream",
          "name": "stdout",
          "text": [
            "0\n",
            "<class 'int'>\n"
          ]
        }
      ]
    },
    {
      "cell_type": "markdown",
      "source": [
        "Когда Python создает этот целочисленный объект, он сохраняет с ним\n",
        "различную вспомогательную информацию, такую как мнимая часть и тип.\n",
        "Любое имя, следующее за точкой, называется атрибутом объекта слева от точки.\n",
        "например, ``imag`` и __class__ являются атрибутами x. Из этого примера видно,\n",
        "что у объектов есть атрибуты, содержащие вспомогательную информацию. У\n",
        "них также есть атрибуты, которые действуют как функции, называемые\n",
        "методами. \n"
      ],
      "metadata": {
        "id": "uWT1AwzboKOK"
      }
    },
    {
      "cell_type": "markdown",
      "source": [
        "***1.3.4***\n",
        "\n",
        "***Методы***"
      ],
      "metadata": {
        "id": "T12rwHOEmIml"
      }
    },
    {
      "cell_type": "markdown",
      "source": [
        "Методы – это функции, связанные с объектами. Формально методы – это\n",
        "атрибуты объектов, которые могут вызываться (т. е. могут вызываться как\n",
        "функции). Рассмотрим пример.\n"
      ],
      "metadata": {
        "id": "WitTKgqXoH4g"
      }
    },
    {
      "cell_type": "code",
      "source": [
        "x = ['foo', 'bar']\n",
        "callable(x.append)\n",
        "callable(x.__doc__) \n",
        "print(callable(x.append))\n",
        "print(callable(x.__doc__))"
      ],
      "metadata": {
        "colab": {
          "base_uri": "https://localhost:8080/"
        },
        "id": "Iw3LbkwgoOw_",
        "outputId": "6d6c9a9e-cff0-4fa4-86e2-58481a74ed43"
      },
      "execution_count": null,
      "outputs": [
        {
          "output_type": "stream",
          "name": "stdout",
          "text": [
            "True\n",
            "False\n"
          ]
        }
      ]
    },
    {
      "cell_type": "markdown",
      "source": [
        "Методы обычно воздействуют на данные, содержащиеся в объекте,\n",
        "которому они принадлежат, или комбинируют эти данные с другими данными."
      ],
      "metadata": {
        "id": "eddvd6gsoQqq"
      }
    },
    {
      "cell_type": "code",
      "source": [
        "x = ['a', 'b']\n",
        "x.append('c')\n",
        "print(x)\n",
        "s = 'This is a string'\n",
        "s.upper()\n",
        "s.lower()\n",
        "print(s.upper())\n",
        "print(s.lower())\n",
        "s.replace('This', 'That') \n",
        "print(s)"
      ],
      "metadata": {
        "colab": {
          "base_uri": "https://localhost:8080/"
        },
        "id": "Cxm1rburoTk1",
        "outputId": "7ea81f2e-9621-460a-d62e-201756f2380a"
      },
      "execution_count": null,
      "outputs": [
        {
          "output_type": "stream",
          "name": "stdout",
          "text": [
            "['a', 'b', 'c']\n",
            "THIS IS A STRING\n",
            "this is a string\n",
            "This is a string\n"
          ]
        }
      ]
    },
    {
      "cell_type": "markdown",
      "source": [
        "Большая часть функциональности Python организована вокруг вызовов\n",
        "методов. Рассмотрим пример. \n"
      ],
      "metadata": {
        "id": "7-KcUyKeoVHv"
      }
    },
    {
      "cell_type": "code",
      "source": [
        "x = ['a', 'b']\n",
        "x[0] = 'aa'\n",
        "print(x)\n",
        "# Присвоение элемента с помощью обозначения квадратных скобок\n"
      ],
      "metadata": {
        "colab": {
          "base_uri": "https://localhost:8080/"
        },
        "id": "T-rUu_PzoXsX",
        "outputId": "f34d2d91-73a9-4919-880f-6d4a48baef9c"
      },
      "execution_count": null,
      "outputs": [
        {
          "output_type": "stream",
          "name": "stdout",
          "text": [
            "['aa', 'b']\n"
          ]
        }
      ]
    },
    {
      "cell_type": "markdown",
      "source": [
        "Не похоже, что здесь используются какие-либо методы, но на самом деле\n",
        "нотация присваивания в квадратных скобках – это просто удобный интерфейс\n",
        "для вызова метода. На самом деле происходит то, что Python вызывает метод\n",
        "__setitem__ следующим образом:"
      ],
      "metadata": {
        "id": "VcSTdqUHoZ8J"
      }
    },
    {
      "cell_type": "code",
      "source": [
        "x = ['a', 'b']\n",
        "x.__setitem__(0, 'aa') # Equivalent to x[0] = 'aa'\n",
        "x"
      ],
      "metadata": {
        "colab": {
          "base_uri": "https://localhost:8080/"
        },
        "id": "i8qBEYnJocUh",
        "outputId": "b8946ee1-53cc-4ae9-dcb5-c782e851686c"
      },
      "execution_count": null,
      "outputs": [
        {
          "output_type": "execute_result",
          "data": {
            "text/plain": [
              "['aa', 'b']"
            ]
          },
          "metadata": {},
          "execution_count": 17
        }
      ]
    },
    {
      "cell_type": "markdown",
      "source": [
        "В Python все, что находится в памяти, рассматривается как объект. Сюда\n",
        "входят не только списки, строки и т. д., но и менее очевидные вещи, такие как:\n",
        " функции (после того, как они были считаны в память),\n",
        " модули (тоже самое),\n",
        " файлы, открытые для чтения или записи,\n",
        " целые числа и т.д.\n",
        "Когда Python читает определение функции, он создает объект функции и\n",
        "сохраняет его в памяти."
      ],
      "metadata": {
        "id": "YR3aW9ndodib"
      }
    },
    {
      "cell_type": "markdown",
      "source": [
        "***1.4***\n",
        "\n",
        "***Определение собственных классов и объектов в Python***"
      ],
      "metadata": {
        "id": "x_7yWM8OpPHE"
      }
    },
    {
      "cell_type": "markdown",
      "source": [
        "Классы на языке Python – это абстрактные классы, которые описывают\n",
        "сущности предметной области, содержат атрибуты (свойства), методы и\n",
        "предназначены для создания экземпляров (объектов) класса. Как подчеркивалось\n",
        "ранее, в Python любое значение (данные) – это объект. Списки, числа, кортежи и\n",
        "17\n",
        "т.п. являются все теми же объектами, а переменные, которым присваиваются\n",
        "объекты, являются ссылками на них. Создание классов и присвоение их\n",
        "определенным переменным в ООП считается созданием экземпляра класса.\n",
        "Для создания класса используется инструкция class. Синтаксис: \n",
        "\n",
        "class имя_класса:\n",
        "\n",
        " переменная=значение\n",
        "\n",
        "def имя_метода(self, [список передаваемых переменных]):\n",
        "\n",
        " s e l f .переменная=значение\n",
        "Как видно из синтаксиса, класс содержит свойства, определяемые\n",
        "внутренними переменными и функциями (методами), которые могут быть\n",
        "использованы для манипуляций с экземплярами класса. Пример объявления\n",
        "класса с минимально возможным функционалом представлен ниже. \n"
      ],
      "metadata": {
        "id": "b9doUKBRpX9D"
      }
    },
    {
      "cell_type": "code",
      "source": [
        "class Car:\n",
        "  def h_1(self):\n",
        "    pass "
      ],
      "metadata": {
        "id": "oxZoWIq6pWJ5"
      },
      "execution_count": null,
      "outputs": []
    },
    {
      "cell_type": "markdown",
      "source": [
        "***1.4.1***\n",
        "\n",
        "***Определение собственных объектов***"
      ],
      "metadata": {
        "id": "6JlpR65VpusW"
      }
    },
    {
      "cell_type": "markdown",
      "source": [
        "Чтобы создать объект класса, нужно воспользоваться следующим синтаксисом:\n",
        "\n",
        "<имя_объекта> = <имя_класса>()\n",
        "И в качестве примера создадим объект класса Car:\n",
        "car_object = Car() "
      ],
      "metadata": {
        "id": "sAig1aLFp1tq"
      }
    },
    {
      "cell_type": "code",
      "source": [
        "car_object = Car()\n",
        "\n",
        "type(car_object)"
      ],
      "metadata": {
        "colab": {
          "base_uri": "https://localhost:8080/"
        },
        "id": "ZrQF21cup86A",
        "outputId": "2c7cf9db-95a1-4bd1-b10d-da8ed89a9c1b"
      },
      "execution_count": null,
      "outputs": [
        {
          "output_type": "execute_result",
          "data": {
            "text/plain": [
              "__main__.Car"
            ]
          },
          "metadata": {},
          "execution_count": 22
        }
      ]
    },
    {
      "cell_type": "markdown",
      "source": [
        "***1.4.2***\n",
        "\n",
        "***Атриьбуты класса в Python***"
      ],
      "metadata": {
        "id": "MOQ1NdgdqAgS"
      }
    },
    {
      "cell_type": "markdown",
      "source": [
        "Атрибутом класса/объекта называется любой элемент класса/объекта\n",
        "(переменную, метод, подкласс), на который можно сослаться через символ\n",
        "точки. Например: \n",
        "\n",
        "MyClass.<атрибут> или my_object.<атрибут>.\n",
        "\n",
        "Все атрибуты можно разделить на 2 группы:\n",
        "\n",
        " встроенные(служебные) атрибуты;\n",
        "\n",
        " пользовательские атрибуты. "
      ],
      "metadata": {
        "id": "KhjKNxERqFi1"
      }
    },
    {
      "cell_type": "markdown",
      "source": [
        "***1.4.2.1***\n",
        "\n",
        "***Встроенные атрибуты***"
      ],
      "metadata": {
        "id": "Vek_ijo4qRil"
      }
    },
    {
      "cell_type": "markdown",
      "source": [
        "Все классы, начиная с 3-й версии Python, имеют один общий родительский\n",
        "класс – object. \n",
        "\n",
        "Это значит, что когда создается новый класс, он неявно\n",
        "наследуется от класса object, и потому новый класс наследует все его атрибуты.\n",
        "Именно их и называют встроенными(служебными). Некоторые из них\n",
        "представлены в таблице ниже. \n"
      ],
      "metadata": {
        "id": "IYQNvCLyqZz2"
      }
    },
    {
      "cell_type": "markdown",
      "source": [
        "__new__(cls[, ...]) Конструктор. Создает\n",
        "экземпляр(объект) класса. Сам класс\n",
        "передается в качестве аргумента.\n",
        "__init__(self[, ...]) Инициализатор. Принимает объект\n",
        "класса из конструктора.\n",
        "__del__(self) Деструктор. Вызывается при\n",
        "удалении объекта сборщиком мусора\n",
        "__str__(self) Возвращает строковое\n",
        "представление объекта.\n",
        "__hash__(self) Возвращает хэш-сумму объекта.\n",
        "__setattr__(self,\n",
        "attr, val)\n",
        "Создает новый атрибут для объекта\n",
        "класса с именем attr и значением val\n",
        "__doc__ Документация класса.\n",
        "__dict__ Словарь, в котором хранится\n",
        "пространство имен класса"
      ],
      "metadata": {
        "id": "1znjvjGUqf8G"
      }
    },
    {
      "cell_type": "markdown",
      "source": [
        "В теории ООП конструктор класса – это специальный блок инструкций,\n",
        "который вызывается при создании объекта. При написании кода считается, что\n",
        "19\n",
        "метод __init__(self) – это и есть конструктор, но это не совсем так. При создании\n",
        "объекта в Python вызывается метод __new__(cls, *args, **kwargs) – он является\n",
        "конструктором класса. Метод __init__() является инициализатором класса.\n",
        "Этот метод первый принимает созданный конструктором объект. "
      ],
      "metadata": {
        "id": "ndsJ0mlRqjgN"
      }
    },
    {
      "cell_type": "markdown",
      "source": [
        "***1.4.2.2***\n",
        "\n",
        "***Пользовательские атрибуты***"
      ],
      "metadata": {
        "id": "Vk-nycCdqls7"
      }
    },
    {
      "cell_type": "markdown",
      "source": [
        "Это атрибуты, которые непосредственно составляют основной\n",
        "функционал класса. Если служебные атрибуты наследуются от базового класса\n",
        "object, то пользовательские – пишутся программистом во время реализации\n",
        "класса. \n"
      ],
      "metadata": {
        "id": "fD1OE7myqq2x"
      }
    },
    {
      "cell_type": "code",
      "source": [
        "class Car:\n",
        "    color = 'Grey'\n",
        "    def drive(self):\n",
        "      pass\n",
        "    def price(self):\n",
        "      pass "
      ],
      "metadata": {
        "id": "4gTvfz9oqxtW"
      },
      "execution_count": null,
      "outputs": []
    },
    {
      "cell_type": "code",
      "source": [
        "car_object = Car()\n",
        "dir(car_object)\n",
        "['__class__',\n",
        " '__delattr__',\n",
        " '__dict__',\n",
        " '__dir__',\n",
        " '__doc__',\n",
        " '__init__',\n",
        " '__init_subclass__',\n",
        " 'color',\n",
        " 'drive',\n",
        " 'price'] "
      ],
      "metadata": {
        "id": "0RH3nBmSq0dn"
      },
      "execution_count": null,
      "outputs": []
    },
    {
      "cell_type": "code",
      "source": [
        "['__class__',\n",
        " '__delattr__',\n",
        " '__dict__',\n",
        " '__dir__',\n",
        " '__doc__',\n",
        " '__init__',\n",
        " '__init_subclass__',\n",
        " 'color',\n",
        " 'drive',\n",
        " 'price']"
      ],
      "metadata": {
        "id": "maegjufrq3dl"
      },
      "execution_count": null,
      "outputs": []
    }
  ]
}