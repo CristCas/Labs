{
  "nbformat": 4,
  "nbformat_minor": 0,
  "metadata": {
    "colab": {
      "provenance": [],
      "authorship_tag": "ABX9TyP3jzmY055KbUqtM7qRTbAl",
      "include_colab_link": true
    },
    "kernelspec": {
      "name": "python3",
      "display_name": "Python 3"
    },
    "language_info": {
      "name": "python"
    }
  },
  "cells": [
    {
      "cell_type": "markdown",
      "metadata": {
        "id": "view-in-github",
        "colab_type": "text"
      },
      "source": [
        "<a href=\"https://colab.research.google.com/github/CristCas/Labs/blob/main/Python(10_02_23).ipynb\" target=\"_parent\"><img src=\"https://colab.research.google.com/assets/colab-badge.svg\" alt=\"Open In Colab\"/></a>"
      ]
    },
    {
      "cell_type": "markdown",
      "source": [
        "**Основы объектно-ориентированного анализа и программирования.**\n",
        "\n",
        "**Задание:** Лекция_1 (10/02/23).\n",
        "\n",
        "**Выполнила:** Юдаева.\n",
        "\n",
        "**Группа:** АДЭУ-221."
      ],
      "metadata": {
        "id": "gXS2pbpk7Hb6"
      }
    },
    {
      "cell_type": "markdown",
      "source": [
        "**Классы - введение. Исключения.**\n",
        "\n",
        "●**Класс** - разновидность абстрактного типа данных в ООП.\n",
        "\n",
        "●Не нужно создавать много кода, но класс тратит оперативку!\n",
        "\n",
        "Состоит из:\n",
        "\n",
        "●**Свойств** - переменных, принадлежащих классу или объекту этого класса.\n",
        "\n",
        "●**Методов** - функций, принадлежащих классу или объекту этого класса."
      ],
      "metadata": {
        "id": "dxPw_SVP7ahT"
      }
    },
    {
      "cell_type": "markdown",
      "source": [
        "**Self**\n",
        "\n",
        "●**Self** - указатель на \"самого себя\".\n",
        "\n",
        "●Присутствуект во всех объектах.\n",
        "\n",
        "●При объявлении методов класса, указывается первым (во всех методах, кроме статических).\n",
        "\n",
        "●Обращение ко всем своцствам класса - через него."
      ],
      "metadata": {
        "id": "cUlNGqko8HLB"
      }
    },
    {
      "cell_type": "markdown",
      "source": [
        "**Конструктор класса**\n",
        "\n",
        "●Метод с название _init_\n",
        "\n",
        "●Выполняется при создании объекта - всегда self.\n",
        "\n",
        "●Первый параметр - всегда self.\n",
        "\n",
        "●Последующие параметры - используются для создания объектов.\n",
        "\n",
        "Пример:"
      ],
      "metadata": {
        "id": "VJWP-_g98bla"
      }
    },
    {
      "cell_type": "code",
      "source": [
        "class human:\n",
        "  def __init__(self, name, age, iq):\n",
        "    self.name = name\n",
        "    self.age = age\n",
        "    if self.age < 0:\n",
        "      print('Oops, necromancer detected =)')\n",
        "    self.iq = iq\n",
        "human1 = human('Masha', 13, 170)\n",
        "human2 = human('Petya', 20, 270)\n",
        "human3 = human('Oleg', 64, 146)\n",
        "human4 = human('Marcus', 7, 425)\n",
        "print(human1.name, human1.age, human1.iq)\n",
        "print(human2.name, human2.age, human2.iq)\n",
        "print(human3.name, human3.age, human3.iq)\n",
        "print(human4.name, human4.age, human4.iq)"
      ],
      "metadata": {
        "colab": {
          "base_uri": "https://localhost:8080/"
        },
        "id": "0Z8MKnNV7aNE",
        "outputId": "d65aaa27-e979-4308-b5e4-1e629a1a7de0"
      },
      "execution_count": null,
      "outputs": [
        {
          "output_type": "stream",
          "name": "stdout",
          "text": [
            "Masha 13 170\n",
            "Petya 20 270\n",
            "Oleg 64 146\n",
            "Marcus 7 425\n"
          ]
        }
      ]
    },
    {
      "cell_type": "markdown",
      "source": [
        "**Статические свойства класса**"
      ],
      "metadata": {
        "id": "-AdhymGN9Ay6"
      }
    },
    {
      "cell_type": "code",
      "source": [
        "class Human:\n",
        "  legs = 2\n",
        "  head = 1\n",
        "\n",
        "  def __init__(self, name):\n",
        "    self.name = name"
      ],
      "metadata": {
        "id": "p2QY6uUS9DcJ"
      },
      "execution_count": null,
      "outputs": []
    },
    {
      "cell_type": "markdown",
      "source": [
        "●Одно и то же значение для всех объектов класса.\n",
        "\n",
        "●Обращение не через self, а через имя класса (Human.legs = 4).\n",
        "\n",
        "●Если изменить значение в одном объекте - оно изменится во всех существующих объектах.\n",
        "\n",
        "●self.legs = 5\n",
        " \n",
        "●Создастся независимая копия переменной legs, при её изменении другие объекты не изменятся.\n"
      ],
      "metadata": {
        "id": "UKWdl5jb9L7e"
      }
    },
    {
      "cell_type": "code",
      "source": [
        "from math import sqrt, pi\n",
        "class Point:\n",
        "  amount = 0\n",
        "\n",
        "  def __init__(self, *args):    #КОНСТРУКТОР\n",
        "    if len(args) == 2:\n",
        "      self.x = args[0]\n",
        "      self.y = args[1]\n",
        "    else:\n",
        "      self.x = self.y = 0\n",
        "    Point.amount += 1\n",
        "\n",
        "  def __del__(self):            #ДЕСТРУКТОР\n",
        "    Point.amount -= 1\n",
        "\n",
        "  def distance(self):\n",
        "    return (self.x ** 2 + self.y ** 2) ** 5\n",
        "\n",
        "  def __str__(self):            #ОПЕРАТОР ПРЕОБРАЗУЕТСЯ В СТРОКУ\n",
        "    return '({}; {})'.format(self.x, self.y)\n",
        "\n",
        "p = Point(36, 42)\n",
        "print(p)"
      ],
      "metadata": {
        "colab": {
          "base_uri": "https://localhost:8080/"
        },
        "id": "OYNFuN-59OJQ",
        "outputId": "7ef7548f-e64d-4212-c02c-7d2556a6b8a0"
      },
      "execution_count": null,
      "outputs": [
        {
          "output_type": "stream",
          "name": "stdout",
          "text": [
            "(36; 42)\n"
          ]
        }
      ]
    },
    {
      "cell_type": "markdown",
      "source": [
        "**Исключения**\n",
        "\n",
        "●**Исключение (Exception)** - ошибка в программе, ПРИВОДЯЩАЯ К НЕВОЗМОЖНОСТИ (БЕССМЫСЛЕННОСТИ) ДАЛЬНЕЙШЕГО ВЫПОЛНЕНИЯ АЛГОРИТМА.\n",
        "\n",
        "●При возникновении такой ошики прерываются все функции программы, ввыполняющиеся в данный момент.\n",
        "\n",
        "●**Обработка исключений (Exception Handling)** - механизм языка, предназначенный для описания реакции программы на исключения (\"что нужно делать, чтобы остаться на плаву\")."
      ],
      "metadata": {
        "id": "JXT9YdhtQ95f"
      }
    },
    {
      "cell_type": "markdown",
      "source": [
        "**Внимание**\n",
        "\n",
        "●Если сгенерировать исключение, но не перехватить его, программа аварийно завершится.\n"
      ],
      "metadata": {
        "id": "L5no1AnLRd11"
      }
    },
    {
      "cell_type": "code",
      "source": [
        "a = int(input())    #Вводим 5\n",
        "b = int(input())    #Вводим 0\n",
        "c = a/b\n",
        "\n",
        "#Traceback (most recent call last):\n",
        "#  File \"<stdin>\", line 1m in <module>\n",
        "#ZeroDivisionError: divisiomn by zero"
      ],
      "metadata": {
        "id": "7vadYJ9bRk9G"
      },
      "execution_count": null,
      "outputs": []
    },
    {
      "cell_type": "code",
      "source": [
        "#Practic 1.1.\n",
        "#Variant 12.\n",
        "\n",
        "from math import sqrt, pi\n",
        "class Circle:\n",
        "  def __init__(self, x, y, radius):\n",
        "    self.center = Point(x, y)\n",
        "    self.radius = radius\n",
        "\n",
        "  def length(self):\n",
        "    return 2 * pi * self.radius\n",
        "\n",
        "  def square(self):\n",
        "    return pi * (self.radius ** 2)\n",
        "\n",
        "  def move(self, x, y):\n",
        "    self.center.x = x\n",
        "    self.center.y = yield\n",
        "\n",
        "  def distance(self):\n",
        "    return sqrt(self.center.x ** 2 + self.center.y ** 2)\n",
        "\n",
        "  def __str__(self):\n",
        "    return \"circle: center: {}; radius: {}\"\\\n",
        "        .format(self.center, self.radius)\n",
        "\n",
        "c=Circle(3, 1, 2)\n",
        "print(c)\n",
        "print(c.length())\n",
        "print(c.square())\n",
        "print(c.distance())"
      ],
      "metadata": {
        "colab": {
          "base_uri": "https://localhost:8080/"
        },
        "id": "Bbwr7Fvt-gCl",
        "outputId": "0296c6d6-bce0-44b6-ccf8-a7dcc1ed2fe7"
      },
      "execution_count": null,
      "outputs": [
        {
          "output_type": "stream",
          "name": "stdout",
          "text": [
            "circle: center: (3; 1); radius: 2\n",
            "12.566370614359172\n",
            "12.566370614359172\n",
            "3.1622776601683795\n"
          ]
        }
      ]
    },
    {
      "cell_type": "markdown",
      "source": [
        "**ООП**\n",
        "\n",
        "**ОБЪЕКТИВНО-ОРИЕНТИРОВАННЫЙ ПОДХОД**\n",
        "\n",
        "●Этот подход включает в себя все астилевые усовершенствования, базирующиеся на понятии \"объект\" - понятии, которое многие люди обозначабт словом \"вещь\".\n",
        "\n",
        "●Всякая вещь, объект, хараектризуется своими свойствами и поведением.\n",
        "\n",
        "●Объектно-Ориентированный подход можно применить:\n",
        "\n",
        "1). Как к программированию;\n",
        "\n",
        "2). К анализу;\n",
        "\n",
        "3). К дизайну."
      ],
      "metadata": {
        "id": "4f14EaYJOw2a"
      }
    },
    {
      "cell_type": "markdown",
      "source": [
        "**ООП**\n",
        "\n",
        "●**Объективно-Ориентированный подход** - это способ мышления, а также способ восприятия окружа.щего мира с точки зрения теории объектов."
      ],
      "metadata": {
        "id": "pZTTGZNaRCA7"
      }
    },
    {
      "cell_type": "markdown",
      "source": [
        "**Парадигма программирования на машинном языке (1-Я)**\n",
        "\n",
        "●Программы писались на машинных языках в двоичном представлении, при написании программ на машинных языках часто допускались ошибки, причём из-за невозможности их структурировать. \n",
        "\n",
        "●Сопровождение кода было практически невозможным. \n",
        "\n",
        "●Кроме того, программа в машинных кодах была сложна для понимания.\n",
        "\n",
        "●●●\n",
        "\n",
        "**Парадигма процедурного программирования 2-Я**\n",
        "\n",
        "●Процедурные языки дают программисту ворзможность разбить программу обработки информации на несколько процедур более низкого уровня. \n",
        "\n",
        "●Последовательные обращения к жтим процедурам управляют выполнением программы, состоящей из процедур. \n",
        "\n",
        "●Программа прекращает работу тогда,когда исчерпывает список вызывов.\n",
        "\n",
        "●●●\n",
        "\n",
        "**Парадигма модульного программирования (3-Я)**\n",
        "\n",
        "●Модульное программирование разбивает программу на ряд составляющих компонентов, или модулей. \n",
        "\n",
        "●В отличие от процедурного программирования, которое разделяет данные и процедуры, модлули обхединяют их модули, скрывают всю внутреннюю информацию от остальных частей этой программы. \n",
        "\n",
        "●Основываясь на этом, довольно просто объяснить, что такое состояние.\n",
        "\n"
      ],
      "metadata": {
        "id": "YprFZ792SHf9"
      }
    },
    {
      "cell_type": "markdown",
      "source": [
        "**ООП**\n",
        "\n",
        "●**Состояние объекта** - это совокупность значений внутренний переменных объекта.\n",
        "\n",
        "●**Внутренняя переменная** - это величина, хранимая внутри объекта."
      ],
      "metadata": {
        "id": "rOANSWztTZGv"
      }
    },
    {
      "cell_type": "markdown",
      "source": [
        "**Парадигма Объективно-Ориентированного программирования (4-Я)**\n",
        "\n",
        "ООП добавляет к модулю:\n",
        "\n",
        "1). Наследование;\n",
        "\n",
        "2). Полиморфизм."
      ],
      "metadata": {
        "id": "SpmzJiAaT-U2"
      }
    },
    {
      "cell_type": "markdown",
      "source": [
        "●**Python** - Объективно-ориентированный язык программирования.\n",
        "\n",
        "●**Класс** - тип, описывающий устройство объектов.\n",
        "\n",
        "●**Объекты** - экземпляры классов."
      ],
      "metadata": {
        "id": "1Hg876e6VcG_"
      }
    },
    {
      "cell_type": "code",
      "source": [
        "#Кодики любимые, мм~\n",
        "\n",
        "class A:\n",
        "  x = 15\n",
        "  def print_x(self):\n",
        "    print(self.x)\n",
        "\n",
        "  def sum(self, a, b):\n",
        "    return self.x+a+b\n",
        "\n",
        "a = A()            #Create instance\n",
        "a.print_x()        #15\n",
        "b = a.sum(5,2)     #22\n",
        "B = A()\n",
        "C = A()\n",
        "\n",
        "print()"
      ],
      "metadata": {
        "id": "dd2JAc16UfCW"
      },
      "execution_count": null,
      "outputs": []
    },
    {
      "cell_type": "markdown",
      "source": [
        "●Каждый метод объекта должен иметь обязательный первый аргумент self.\n",
        "\n"
      ],
      "metadata": {
        "id": "KViLrDuQZAib"
      }
    },
    {
      "cell_type": "code",
      "source": [
        "class A:\n",
        "  def hello():\n",
        "    print('Hello, world!')\n",
        "\n",
        "a = A()\n",
        "a.hello() #Error: self is absent\n",
        "A.hello() #'Hello, World!'"
      ],
      "metadata": {
        "id": "lUyR6H2TZJCc"
      },
      "execution_count": null,
      "outputs": []
    },
    {
      "cell_type": "markdown",
      "source": [
        "●При вызове a.hello() происходит вызов A.hello(a)\n",
        "\n",
        "●При вызове a.func(x) происходит вызов A.func(a, x)"
      ],
      "metadata": {
        "id": "uoPC9zHVZ-ux"
      }
    },
    {
      "cell_type": "code",
      "source": [
        "class A:\n",
        "  def __init__(self, x):\n",
        "    self.x = x\n",
        "    print('Hello!')\n",
        "\n",
        "  def __del__(self):\n",
        "    print('Good bye!')\n",
        "\n",
        "a = A()     #Error: construction has argument x\n",
        "a = A(15)   #'Hello!'\n",
        "del a       #'Good bye!'"
      ],
      "metadata": {
        "id": "hrKb54-QZlN9"
      },
      "execution_count": null,
      "outputs": []
    },
    {
      "cell_type": "markdown",
      "source": [
        "**Удаление объектов при завершении приложения**"
      ],
      "metadata": {
        "id": "lzo1a9W8aTy4"
      }
    },
    {
      "cell_type": "code",
      "source": [
        "class A:\n",
        "  def __init__(self):\n",
        "    print('Hello!')\n",
        "\n",
        "  def __del__(self):\n",
        "    print('Good bye!')\n",
        "\n",
        "def create_obj():\n",
        "  a = A()\n",
        "  return a\n",
        "if __name__ == \"__main__\":\n",
        "  a = create_obj()\n",
        "  \n",
        "print('Program end')\n",
        "exit(0)\n",
        "#Hello! \\n Program end \\n Good bye!"
      ],
      "metadata": {
        "colab": {
          "base_uri": "https://localhost:8080/"
        },
        "id": "S2keLtTNaXjg",
        "outputId": "7028b501-5783-4512-96b3-6895c6f9729a"
      },
      "execution_count": null,
      "outputs": [
        {
          "output_type": "stream",
          "name": "stdout",
          "text": [
            "Hello!\n",
            "Program end\n"
          ]
        }
      ]
    },
    {
      "cell_type": "code",
      "source": [
        "class A:\n",
        "  def __init__(self, bb):\n",
        "    self.b == bb\n",
        "    \n",
        "class B:\n",
        "  def __init__(self):\n",
        "    self.a = A(self)\n",
        "  def __del__(self):\n",
        "    print('Good bye!')\n",
        "def fun():\n",
        "  b = B()\n",
        "  print('fun end')\n",
        "fun()\n",
        "print('Program end')"
      ],
      "metadata": {
        "colab": {
          "base_uri": "https://localhost:8080/",
          "height": 363
        },
        "id": "irTiZxuHbaX2",
        "outputId": "4480be7c-bddf-4b57-a7bd-343e09666166"
      },
      "execution_count": null,
      "outputs": [
        {
          "output_type": "error",
          "ename": "AttributeError",
          "evalue": "ignored",
          "traceback": [
            "\u001b[0;31m---------------------------------------------------------------------------\u001b[0m",
            "\u001b[0;31mAttributeError\u001b[0m                            Traceback (most recent call last)",
            "\u001b[0;32m<ipython-input-4-c59e95c0f870>\u001b[0m in \u001b[0;36m<module>\u001b[0;34m\u001b[0m\n\u001b[1;32m     11\u001b[0m   \u001b[0mb\u001b[0m \u001b[0;34m=\u001b[0m \u001b[0mB\u001b[0m\u001b[0;34m(\u001b[0m\u001b[0;34m)\u001b[0m\u001b[0;34m\u001b[0m\u001b[0;34m\u001b[0m\u001b[0m\n\u001b[1;32m     12\u001b[0m   \u001b[0mprint\u001b[0m\u001b[0;34m(\u001b[0m\u001b[0;34m'fun end'\u001b[0m\u001b[0;34m)\u001b[0m\u001b[0;34m\u001b[0m\u001b[0;34m\u001b[0m\u001b[0m\n\u001b[0;32m---> 13\u001b[0;31m \u001b[0mfun\u001b[0m\u001b[0;34m(\u001b[0m\u001b[0;34m)\u001b[0m\u001b[0;34m\u001b[0m\u001b[0;34m\u001b[0m\u001b[0m\n\u001b[0m\u001b[1;32m     14\u001b[0m \u001b[0mprint\u001b[0m\u001b[0;34m(\u001b[0m\u001b[0;34m'Program end'\u001b[0m\u001b[0;34m)\u001b[0m\u001b[0;34m\u001b[0m\u001b[0;34m\u001b[0m\u001b[0m\n",
            "\u001b[0;32m<ipython-input-4-c59e95c0f870>\u001b[0m in \u001b[0;36mfun\u001b[0;34m()\u001b[0m\n\u001b[1;32m      9\u001b[0m     \u001b[0mprint\u001b[0m\u001b[0;34m(\u001b[0m\u001b[0;34m'Good bye!'\u001b[0m\u001b[0;34m)\u001b[0m\u001b[0;34m\u001b[0m\u001b[0;34m\u001b[0m\u001b[0m\n\u001b[1;32m     10\u001b[0m \u001b[0;32mdef\u001b[0m \u001b[0mfun\u001b[0m\u001b[0;34m(\u001b[0m\u001b[0;34m)\u001b[0m\u001b[0;34m:\u001b[0m\u001b[0;34m\u001b[0m\u001b[0;34m\u001b[0m\u001b[0m\n\u001b[0;32m---> 11\u001b[0;31m   \u001b[0mb\u001b[0m \u001b[0;34m=\u001b[0m \u001b[0mB\u001b[0m\u001b[0;34m(\u001b[0m\u001b[0;34m)\u001b[0m\u001b[0;34m\u001b[0m\u001b[0;34m\u001b[0m\u001b[0m\n\u001b[0m\u001b[1;32m     12\u001b[0m   \u001b[0mprint\u001b[0m\u001b[0;34m(\u001b[0m\u001b[0;34m'fun end'\u001b[0m\u001b[0;34m)\u001b[0m\u001b[0;34m\u001b[0m\u001b[0;34m\u001b[0m\u001b[0m\n\u001b[1;32m     13\u001b[0m \u001b[0mfun\u001b[0m\u001b[0;34m(\u001b[0m\u001b[0;34m)\u001b[0m\u001b[0;34m\u001b[0m\u001b[0;34m\u001b[0m\u001b[0m\n",
            "\u001b[0;32m<ipython-input-4-c59e95c0f870>\u001b[0m in \u001b[0;36m__init__\u001b[0;34m(self)\u001b[0m\n\u001b[1;32m      5\u001b[0m \u001b[0;32mclass\u001b[0m \u001b[0mB\u001b[0m\u001b[0;34m:\u001b[0m\u001b[0;34m\u001b[0m\u001b[0;34m\u001b[0m\u001b[0m\n\u001b[1;32m      6\u001b[0m   \u001b[0;32mdef\u001b[0m \u001b[0m__init__\u001b[0m\u001b[0;34m(\u001b[0m\u001b[0mself\u001b[0m\u001b[0;34m)\u001b[0m\u001b[0;34m:\u001b[0m\u001b[0;34m\u001b[0m\u001b[0;34m\u001b[0m\u001b[0m\n\u001b[0;32m----> 7\u001b[0;31m     \u001b[0mself\u001b[0m\u001b[0;34m.\u001b[0m\u001b[0ma\u001b[0m \u001b[0;34m=\u001b[0m \u001b[0mA\u001b[0m\u001b[0;34m(\u001b[0m\u001b[0mself\u001b[0m\u001b[0;34m)\u001b[0m\u001b[0;34m\u001b[0m\u001b[0;34m\u001b[0m\u001b[0m\n\u001b[0m\u001b[1;32m      8\u001b[0m   \u001b[0;32mdef\u001b[0m \u001b[0m__del__\u001b[0m\u001b[0;34m(\u001b[0m\u001b[0mself\u001b[0m\u001b[0;34m)\u001b[0m\u001b[0;34m:\u001b[0m\u001b[0;34m\u001b[0m\u001b[0;34m\u001b[0m\u001b[0m\n\u001b[1;32m      9\u001b[0m     \u001b[0mprint\u001b[0m\u001b[0;34m(\u001b[0m\u001b[0;34m'Good bye!'\u001b[0m\u001b[0;34m)\u001b[0m\u001b[0;34m\u001b[0m\u001b[0;34m\u001b[0m\u001b[0m\n",
            "\u001b[0;32m<ipython-input-4-c59e95c0f870>\u001b[0m in \u001b[0;36m__init__\u001b[0;34m(self, bb)\u001b[0m\n\u001b[1;32m      1\u001b[0m \u001b[0;32mclass\u001b[0m \u001b[0mA\u001b[0m\u001b[0;34m:\u001b[0m\u001b[0;34m\u001b[0m\u001b[0;34m\u001b[0m\u001b[0m\n\u001b[1;32m      2\u001b[0m   \u001b[0;32mdef\u001b[0m \u001b[0m__init__\u001b[0m\u001b[0;34m(\u001b[0m\u001b[0mself\u001b[0m\u001b[0;34m,\u001b[0m \u001b[0mbb\u001b[0m\u001b[0;34m)\u001b[0m\u001b[0;34m:\u001b[0m\u001b[0;34m\u001b[0m\u001b[0;34m\u001b[0m\u001b[0m\n\u001b[0;32m----> 3\u001b[0;31m     \u001b[0mself\u001b[0m\u001b[0;34m.\u001b[0m\u001b[0mb\u001b[0m \u001b[0;34m==\u001b[0m \u001b[0mbb\u001b[0m\u001b[0;34m\u001b[0m\u001b[0;34m\u001b[0m\u001b[0m\n\u001b[0m\u001b[1;32m      4\u001b[0m \u001b[0;34m\u001b[0m\u001b[0m\n\u001b[1;32m      5\u001b[0m \u001b[0;32mclass\u001b[0m \u001b[0mB\u001b[0m\u001b[0;34m:\u001b[0m\u001b[0;34m\u001b[0m\u001b[0;34m\u001b[0m\u001b[0m\n",
            "\u001b[0;31mAttributeError\u001b[0m: 'A' object has no attribute 'b'"
          ]
        }
      ]
    },
    {
      "cell_type": "markdown",
      "source": [
        "Использование в методах (как и в любых функциях) значений по умолчанию для изменяемых типов может привести к неожиданным результатам."
      ],
      "metadata": {
        "id": "rfXz7Mt9cYiE"
      }
    },
    {
      "cell_type": "code",
      "source": [
        "class Bus:\n",
        "  def __init__(self, passengers=[]):\n",
        "    self.passengers = passengers\n",
        "\n",
        "  def pick(self, name):\n",
        "    self.passengers.append(name)\n",
        "\n",
        "  def drop(self, name):\n",
        "    self.passengers.remove(name)\n",
        "\n",
        "bus1 = Bus(['Alice', 'Bill'])\n",
        "bus1.passengers\n",
        "bus1.pick('Charlie')\n",
        "bus1.drop('Alice')\n",
        "bus1.passengers\n",
        "\n",
        "bus2 = Bus()\n",
        "bus2.pick('Carrie')\n",
        "bus2.passengers\n",
        "\n",
        "bus3 = Bus()\n",
        "bus3.passengers\n",
        "bus2.passengers is bus3.passengers\n",
        "bus1.passengers"
      ],
      "metadata": {
        "colab": {
          "base_uri": "https://localhost:8080/"
        },
        "id": "SZ4wlDmLchnq",
        "outputId": "24eac23a-1533-427d-e0ec-7613789198fd"
      },
      "execution_count": null,
      "outputs": [
        {
          "output_type": "execute_result",
          "data": {
            "text/plain": [
              "['Bill', 'Charlie']"
            ]
          },
          "metadata": {},
          "execution_count": 11
        }
      ]
    },
    {
      "cell_type": "markdown",
      "source": [
        "Атрибуты класса (Class attributes)\n",
        "Разделяемы -= "
      ],
      "metadata": {
        "id": "7YOqliFrenJS"
      }
    },
    {
      "cell_type": "code",
      "source": [
        "class A:\n",
        "  x = 10\n",
        "  __x = 1\n",
        "  def __init__(self):\n",
        "    self.y = 5\n",
        "    z = 1\n",
        "\n",
        "a = A()\n",
        "print(a.x)\n",
        "print(a.y)\n",
        "print(a.z)\n",
        "print(a.__x)\n",
        "print(A.x)\n",
        "print(A.y)"
      ],
      "metadata": {
        "colab": {
          "base_uri": "https://localhost:8080/",
          "height": 269
        },
        "id": "26ChBaaxeudY",
        "outputId": "cf9abf35-a1b2-497c-df56-448487f141b1"
      },
      "execution_count": null,
      "outputs": [
        {
          "output_type": "stream",
          "name": "stdout",
          "text": [
            "10\n",
            "5\n"
          ]
        },
        {
          "output_type": "error",
          "ename": "AttributeError",
          "evalue": "ignored",
          "traceback": [
            "\u001b[0;31m---------------------------------------------------------------------------\u001b[0m",
            "\u001b[0;31mAttributeError\u001b[0m                            Traceback (most recent call last)",
            "\u001b[0;32m<ipython-input-16-89d1f270b306>\u001b[0m in \u001b[0;36m<module>\u001b[0;34m\u001b[0m\n\u001b[1;32m      9\u001b[0m \u001b[0mprint\u001b[0m\u001b[0;34m(\u001b[0m\u001b[0ma\u001b[0m\u001b[0;34m.\u001b[0m\u001b[0mx\u001b[0m\u001b[0;34m)\u001b[0m\u001b[0;34m\u001b[0m\u001b[0;34m\u001b[0m\u001b[0m\n\u001b[1;32m     10\u001b[0m \u001b[0mprint\u001b[0m\u001b[0;34m(\u001b[0m\u001b[0ma\u001b[0m\u001b[0;34m.\u001b[0m\u001b[0my\u001b[0m\u001b[0;34m)\u001b[0m\u001b[0;34m\u001b[0m\u001b[0;34m\u001b[0m\u001b[0m\n\u001b[0;32m---> 11\u001b[0;31m \u001b[0mprint\u001b[0m\u001b[0;34m(\u001b[0m\u001b[0ma\u001b[0m\u001b[0;34m.\u001b[0m\u001b[0mz\u001b[0m\u001b[0;34m)\u001b[0m\u001b[0;34m\u001b[0m\u001b[0;34m\u001b[0m\u001b[0m\n\u001b[0m\u001b[1;32m     12\u001b[0m \u001b[0mprint\u001b[0m\u001b[0;34m(\u001b[0m\u001b[0ma\u001b[0m\u001b[0;34m.\u001b[0m\u001b[0m__x\u001b[0m\u001b[0;34m)\u001b[0m\u001b[0;34m\u001b[0m\u001b[0;34m\u001b[0m\u001b[0m\n\u001b[1;32m     13\u001b[0m \u001b[0mprint\u001b[0m\u001b[0;34m(\u001b[0m\u001b[0mA\u001b[0m\u001b[0;34m.\u001b[0m\u001b[0mx\u001b[0m\u001b[0;34m)\u001b[0m\u001b[0;34m\u001b[0m\u001b[0;34m\u001b[0m\u001b[0m\n",
            "\u001b[0;31mAttributeError\u001b[0m: 'A' object has no attribute 'z'"
          ]
        }
      ]
    },
    {
      "cell_type": "code",
      "source": [
        "class A:\n",
        "  x = 10\n",
        "a = A()\n",
        "b = A()\n",
        "a.x = 4\n",
        "b.x \n",
        "A.x\n"
      ],
      "metadata": {
        "colab": {
          "base_uri": "https://localhost:8080/"
        },
        "id": "E4cyVMDYe0kE",
        "outputId": "5fda91df-e9e1-40ef-d675-813bee6ed91b"
      },
      "execution_count": null,
      "outputs": [
        {
          "output_type": "execute_result",
          "data": {
            "text/plain": [
              "10"
            ]
          },
          "metadata": {},
          "execution_count": 17
        }
      ]
    },
    {
      "cell_type": "code",
      "source": [
        "class A:\n",
        "  x = 10\n",
        "\n",
        "a = A()\n",
        "b = A()\n",
        "a.x = 4\n",
        "a.__dict__a.__class__.__dict__\n",
        "b.__class__.__dict__\n",
        "A.__dict__"
      ],
      "metadata": {
        "id": "XLwZk6jxgJbo"
      },
      "execution_count": null,
      "outputs": []
    }
  ]
}