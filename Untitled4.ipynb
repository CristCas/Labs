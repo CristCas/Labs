{
  "nbformat": 4,
  "nbformat_minor": 0,
  "metadata": {
    "colab": {
      "provenance": [],
      "collapsed_sections": [],
      "authorship_tag": "ABX9TyPdr+SwEurrH0ZdJCEqdTN1",
      "include_colab_link": true
    },
    "kernelspec": {
      "name": "python3",
      "display_name": "Python 3"
    },
    "language_info": {
      "name": "python"
    }
  },
  "cells": [
    {
      "cell_type": "markdown",
      "metadata": {
        "id": "view-in-github",
        "colab_type": "text"
      },
      "source": [
        "<a href=\"https://colab.research.google.com/github/CristCas/Labs/blob/main/Untitled4.ipynb\" target=\"_parent\"><img src=\"https://colab.research.google.com/assets/colab-badge.svg\" alt=\"Open In Colab\"/></a>"
      ]
    },
    {
      "cell_type": "markdown",
      "source": [
        "Программирование на языке высокого уровня (Python).\n",
        "\n",
        "https://www.yuripetrov.ru/edu/python\n",
        "\n",
        "Задание: Lab4.\n",
        "\n",
        "Выполнила: Юдаева А. В.\n",
        "\n",
        "Группа: АДЭУ-221\n",
        "\n",
        "E-mail: nastya.yudaevav@mail.ru"
      ],
      "metadata": {
        "id": "k5TJ8XMlBl5W"
      }
    },
    {
      "cell_type": "markdown",
      "source": [
        "---\n",
        "(Task 4.2.1)\n",
        "\n",
        "Рассчитать значение f при заданном значении вещественного числа x:\n",
        "\n",
        "![image_2022-09-21_202530766.png](data:image/png;base64,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)\n",
        "\n",
        "При выводе на экран оставьте 2 знака после запятой."
      ],
      "metadata": {
        "id": "6rK3Ltp6CSDp"
      }
    },
    {
      "cell_type": "code",
      "source": [
        "#Task_4_2_1\n",
        "\n",
        "x = int(input('Введите чисто x:'))\n",
        "\n",
        "if x >= 0:\n",
        "  f = (x**(1/2))+(x**2)\n",
        "else:\n",
        "  f = 1/x\n",
        "print('f = ', round(f, 2))\n",
        "\n",
        "# Пример вывода:\n",
        "# Введите число x: -10\n",
        "# f = -0.10\n",
        "# Введите число x: 0\n",
        "# f = 0.00\n",
        "# Введите число x: 10\n",
        "# f = 103.16"
      ],
      "metadata": {
        "colab": {
          "base_uri": "https://localhost:8080/"
        },
        "id": "JyWTiwSeCqEI",
        "outputId": "2b964758-036a-4330-e1a0-949fbfc7ed1b"
      },
      "execution_count": null,
      "outputs": [
        {
          "output_type": "stream",
          "name": "stdout",
          "text": [
            "Введите чисто x:-10\n",
            "f =  -0.1\n"
          ]
        }
      ]
    },
    {
      "cell_type": "markdown",
      "source": [
        "---\n",
        "(Task 4.2.2)\n",
        "\n",
        "Определите максимальное и минимальное значения из двух различных целых чисел."
      ],
      "metadata": {
        "id": "oJH47bqwCqdO"
      }
    },
    {
      "cell_type": "code",
      "source": [
        "#Task_4_2_2\n",
        "\n",
        "a1 = (int(input('Введите вервое число: ')))\n",
        "a2 = (int(input('Введите второе чисто: ')))\n",
        "if a1 != a2:\n",
        "  if a1 > a2:\n",
        "    print('Максимум: ', a1, 'Минимум: ', a2)\n",
        "  else:\n",
        "    print('Максимум: ', a2, 'Минимум: ', a1)\n",
        "else:\n",
        "  print('Максимум: ', a1, 'Минимум: ', a2)\n",
        "\n",
        "# Пример вывода:\n",
        "# Введите первое число: 1\n",
        "# Введите второе число: 2\n",
        "# Максимум: 2, минимум: 1\n",
        "# Введите первое число: 5\n",
        "# Введите второе число: 5\n",
        "# Максимум: 5, минимум: 5\n",
        "# Введите первое число: 100\n",
        "# Введите второе число: -1\n",
        "# Максимум: 100, минимум: -1"
      ],
      "metadata": {
        "colab": {
          "base_uri": "https://localhost:8080/"
        },
        "id": "OnOORxFYCquq",
        "outputId": "c9fa6fd7-70f3-4eb1-d280-6f481edf3a5f"
      },
      "execution_count": null,
      "outputs": [
        {
          "output_type": "stream",
          "name": "stdout",
          "text": [
            "Введите вервое число: 1\n",
            "Введите второе чисто: 1\n",
            "Максимум:  1 Минимум:  1\n"
          ]
        }
      ]
    },
    {
      "cell_type": "markdown",
      "source": [
        "---\n",
        "(Task 4.2.3)\n",
        "\n",
        "Вася пытается высунуть голову в форточку размерами a и b см.\n",
        "\n",
        "Приняв условно, что его голова - круглая диаметром d см, определите, сможет ли Вася сделать это.\n",
        "\n",
        "Для прохождения головы в форточку необходим зазор в 1 см. с каждой стороны.\n",
        "\n",
        "Все величины - целые числа."
      ],
      "metadata": {
        "id": "afdZ3680Cq1-"
      }
    },
    {
      "cell_type": "code",
      "source": [
        "#Task_4_2_3\n",
        "\n",
        "a = (int(input('Ширина форточки: ')))\n",
        "b = (int(input('Высота форточки: ')))\n",
        "d = (int(input('Диаметр Головы: ')))\n",
        "\n",
        "\n",
        "#Введенные числа должны быть положительными, если так - осуществляем\n",
        "#Расчет, иначе выводим \"Проверьте ввод\"\n",
        "if (a or b or d) < 0:\n",
        "  print('Введённое число должно быть положительным!')\n",
        "else:\n",
        "  if ((a-1 >= d) and (b-1 >= d)):\n",
        "    print('Да')\n",
        "  else:\n",
        "    print('Нет')\n",
        "\n",
        "#Пример вывода:\n",
        "#Ширина форточки: 5\n",
        "#Высота форточки: 6\n",
        "#Диаметр головы: 6\n",
        "#Нет\n",
        "#Ширина форточки: 6\n",
        "#Высота форточки: 7\n",
        "#Диаметр головы: 4\n",
        "#Да"
      ],
      "metadata": {
        "colab": {
          "base_uri": "https://localhost:8080/"
        },
        "id": "Jlz32282Cq-O",
        "outputId": "25929962-d897-4325-c71f-d87abef1dac0"
      },
      "execution_count": null,
      "outputs": [
        {
          "output_type": "stream",
          "name": "stdout",
          "text": [
            "Ширина форточки: 6\n",
            "Высота форточки: 7\n",
            "Диаметр Головы: 4\n",
            "Да\n"
          ]
        }
      ]
    },
    {
      "cell_type": "markdown",
      "source": [
        "---\n",
        "(Task 4.2.4)\n",
        "\n",
        "Известны год и номер месяца сегодняшнего дня, а также год и номер месяца рождения человека (нумерация месяцев с 1: январь - 1 и т.д.).\n",
        "\n",
        "Определите возраст человека (число полных лет)."
      ],
      "metadata": {
        "id": "SIzb8V1QCrDY"
      }
    },
    {
      "cell_type": "code",
      "source": [
        "#Task_4_2_4\n",
        "\n",
        "year_today = int(input('Введите текущий год: '))\n",
        "month_today = int(input('Введите текущий месяц: '))\n",
        "year = int(input('Введите год рождения: '))\n",
        "month = int(input('Введите месяц рождения: '))\n",
        "age = year_today - year\n",
        "\n",
        "if (month_today or year_today or year or month) <= 0:\n",
        "  print('Введённая дата не может быть отрицательной')\n",
        "else:\n",
        "  if month > month_today:\n",
        "    print('Число полных лет: ', age - 1)\n",
        "  else:\n",
        "    print('Число полных лет: ', age)\n",
        "\n",
        "# Пример вывода:\n",
        "# Введите текущий год: 2017\n",
        "# Введите текущий месяц: 5\n",
        "# Введите год рождения: 2000\n",
        "# Введите месяц рождения: 1\n",
        "# Число полных лет:  17\n",
        "# Введите текущий год: 2015\n",
        "# Введите текущий месяц: 6\n",
        "# Введите год рождения: 2010\n",
        "# Введите месяц рождения: 8\n",
        "# Число полных лет:  4\n",
        "# Введите текущий год: 2020\n",
        "# Введите текущий месяц: 5\n",
        "# Введите год рождения: 2000\n",
        "# Введите месяц рождения: 5\n",
        "# Число полных лет:  20"
      ],
      "metadata": {
        "colab": {
          "base_uri": "https://localhost:8080/"
        },
        "id": "Mg8kLPOoCrJ_",
        "outputId": "8f832df5-a8c7-4ac5-810f-fb9aa4e5b0e4"
      },
      "execution_count": null,
      "outputs": [
        {
          "output_type": "stream",
          "name": "stdout",
          "text": [
            "Введите текущий год: 2017\n",
            "Введите текущий месяц: -3\n",
            "Введите год рождения: 2004\n",
            "Введите месяц рождения: 12\n",
            "Введённая дата не может быть отрицательной\n"
          ]
        }
      ]
    },
    {
      "cell_type": "markdown",
      "source": [
        "---\n",
        "(Task 4.2.5)\n",
        "\n",
        "Дана точка с целыми ненулевыми координатами (x;y).\n",
        "\n",
        "Определить номер четверти координатной плоскости, которой она принадлежит."
      ],
      "metadata": {
        "id": "uQIprG_2CrOu"
      }
    },
    {
      "cell_type": "code",
      "source": [
        "#Task_4_2_5\n",
        "\n",
        "x = int(input('Введите координату x: '))\n",
        "y = int(input('Введите координату y: '))\n",
        "\n",
        "if (x or y) == 0:\n",
        "    print(\"Введённая координата не должна быть равна нулю\")\n",
        "elif (x<0 and y>0):\n",
        "  print('2-я четверть')\n",
        "elif (x<0 and y<0):\n",
        "  print('3-я четверть')\n",
        "elif (x>0 and y>0):\n",
        "  print('1-я четверть')\n",
        "elif (x>0 and y<0):\n",
        "  print('4-я четверть')\n",
        "  \n",
        "# Пример вывода:\n",
        "# Введите координату x: 5\n",
        "# Введите координату y: 7\n",
        "# 1-я четверть"
      ],
      "metadata": {
        "colab": {
          "base_uri": "https://localhost:8080/"
        },
        "id": "dJ7LT05JCrUN",
        "outputId": "4e2edd86-88cb-4fe3-dcad-e836fdfca4e1"
      },
      "execution_count": null,
      "outputs": [
        {
          "output_type": "stream",
          "name": "stdout",
          "text": [
            "Введите координату x: -5\n",
            "Введите координату y: 4\n",
            "2-я четверть\n"
          ]
        }
      ]
    },
    {
      "cell_type": "markdown",
      "source": [
        "---\n",
        "(Task 4.2.6)\n",
        "\n",
        "Даны вещественные числа a, b, c (a≠0).\n",
        "\n",
        "Решите уравнение ax2+bx+c=0.\n",
        "\n",
        "При выводе значений оставьте 1 знак после запятой."
      ],
      "metadata": {
        "id": "dxuSoJ8lCrYO"
      }
    },
    {
      "cell_type": "code",
      "source": [
        "#Task_4_2_6\n",
        "\n",
        "a = float(input('a = '))\n",
        "b = float(input('b = '))\n",
        "c = float(input('c = '))\n",
        "\n",
        "d = ((b**2) - (4*a*c))\n",
        "if d<0:\n",
        "  print('Нет решения')\n",
        "elif d==0:\n",
        "  x1 = ((-1*b) / 2*a)\n",
        "  print('x = ', x1)\n",
        "elif d>0:\n",
        "  x1 = (((-1*b) + (d**(1/2))) / 2*a)\n",
        "  x2 = (((-1*b) - (d**(1/2))) / 2*a)\n",
        "  print('x1 = ', x1, 'x2 = ', x2)\n",
        "  \n",
        "# Пример вывода:\n",
        "# a = 1\n",
        "# b = 2\n",
        "# c = 3\n",
        "# Решений нет\n",
        "# a = 1\n",
        "# b = 2\n",
        "# c = 1\n",
        "# x = -1.0\n",
        "# a = 1\n",
        "# b = 3\n",
        "# c = -4\n",
        "# x1 = -4.0, x2 = 1.0"
      ],
      "metadata": {
        "colab": {
          "base_uri": "https://localhost:8080/"
        },
        "id": "CmkvijFjCrdG",
        "outputId": "7e86358a-56b1-4e59-a158-c4a8b6c6a82f"
      },
      "execution_count": null,
      "outputs": [
        {
          "output_type": "stream",
          "name": "stdout",
          "text": [
            "a = 1\n",
            "b = 3\n",
            "c = -4\n",
            "x1 =  1.0 x2 =  -4.0\n"
          ]
        }
      ]
    },
    {
      "cell_type": "markdown",
      "source": [
        "---\n",
        "(Task 4.2.7)\n",
        "\n",
        "Дана непустая последовательность целых чисел, оканчивающаяся нулем.\n",
        "\n",
        "Найти сумму и количество введенных чисел."
      ],
      "metadata": {
        "id": "R-fa-O5nCrhF"
      }
    },
    {
      "cell_type": "code",
      "source": [
        "#Task_4_2_7\n",
        "\n",
        "a = int(input('Введите число: '))\n",
        "b = list()\n",
        "\n",
        "while a != 0:\n",
        "  b.append(a)\n",
        "  a = int(input('Введите дополнительное число: '))\n",
        "print('Сумма: ', sum(b))\n",
        "print('Количество: ', len(b))\n",
        "# Пример вывода:\n",
        "# Введите 1-е число: 1\n",
        "# Введите 2-е число: 2\n",
        "# Введите 3-е число: 3\n",
        "# Введите 4-е число: 4\n",
        "# Введите 5-е число: 5\n",
        "# Сумма = 10\n",
        "# Количество = 4\n",
        "# Введите 1-е число: 0\n",
        "# Сумма = 0\n",
        "# Количество = 0"
      ],
      "metadata": {
        "id": "9Rz8Pky9Crl5",
        "colab": {
          "base_uri": "https://localhost:8080/"
        },
        "outputId": "956812a3-e082-44a8-cf95-2e340b313c59"
      },
      "execution_count": null,
      "outputs": [
        {
          "output_type": "stream",
          "name": "stdout",
          "text": [
            "Введите число: 13\n",
            "Введите дополнительное число: 32\n",
            "Введите дополнительное число: 12\n",
            "Введите дополнительное число: 2\n",
            "Введите дополнительное число: 4\n",
            "Введите дополнительное число: 0\n",
            "Сумма:  63\n",
            "Количество:  5\n"
          ]
        }
      ]
    },
    {
      "cell_type": "markdown",
      "source": [
        "---\n",
        "(Task 4.2.8)\n",
        "\n",
        "Дано число n. Из чисел 0,5,10,15,20,25,... напечатать те, которые не превышают n."
      ],
      "metadata": {
        "id": "GgTER6_BCrqN"
      }
    },
    {
      "cell_type": "code",
      "source": [
        "#Task_4_2_8\n",
        "\n",
        "n = int(input('n = '))\n",
        "g = 0\n",
        "print('0')\n",
        "\n",
        "while g <= n:\n",
        "    g = g + 5\n",
        "    if g < n:\n",
        "      print(g)\n",
        "    else:\n",
        "      break\n",
        "\n",
        "# Пример вывода:\n",
        "# n = 0\n",
        "# 0\n",
        "# n = 10\n",
        "# 0\n",
        "# 5\n",
        "# 10\n",
        "# n = 12\n",
        "# 0\n",
        "# 5\n",
        "# 10"
      ],
      "metadata": {
        "colab": {
          "base_uri": "https://localhost:8080/"
        },
        "id": "VHcQDv-cCruy",
        "outputId": "a109eb7b-ad43-4a43-d311-dceb27a64a6f"
      },
      "execution_count": null,
      "outputs": [
        {
          "output_type": "stream",
          "name": "stdout",
          "text": [
            "n = 10\n",
            "0\n",
            "5\n"
          ]
        }
      ]
    },
    {
      "cell_type": "markdown",
      "source": [
        "---\n",
        "(Task 4.2.9)\n",
        "\n",
        "Дано вещественное число a. Найдите наименьшее натуральное n, для которого верно!\n",
        "\n",
        "![ggfg.JPG](data:image/jpeg;base64,/9j/4AAQSkZJRgABAQEAYABgAAD/4RDoRXhpZgAATU0AKgAAAAgABAE7AAIAAAAKAAAISodpAAQAAAABAAAIVJydAAEAAAAUAAAQzOocAAcAAAgMAAAAPgAAAAAc6gAAAAgAAAAAAAAAAAAAAAAAAAAAAAAAAAAAAAAAAAAAAAAAAAAAAAAAAAAAAAAAAAAAAAAAAAAAAAAAAAAAAAAAAAAAAAAAAAAAAAAAAAAAAAAAAAAAAAAAAAAAAAAAAAAAAAAAAAAAAAAAAAAAAAAAAAAAAAAAAAAAAAAAAAAAAAAAAAAAAAAAAAAAAAAAAAAAAAAAAAAAAAAAAAAAAAAAAAAAAAAAAAAAAAAAAAAAAAAAAAAAAAAAAAAAAAAAAAAAAAAAAAAAAAAAAAAAAAAAAAAAAAAAAAAAAAAAAAAAAAAAAAAAAAAAAAAAAAAAAAAAAAAAAAAAAAAAAAAAAAAAAAAAAAAAAAAAAAAAAAAAAAAAAAAAAAAAAAAAAAAAAAAAAAAAAAAAAAAAAAAAAAAAAAAAAAAAAAAAAAAAAAAAAAAAAAAAAAAAAAAAAAAAAAAAAAAAAAAAAAAAAAAAAAAAAAAAAAAAAAAAAAAAAAAAAAAAAAAAAAAAAAAAAAAAAAAAAAAAAAAAAAAAAAAAAAAAAAAAAAAAAAAAAAAAAAAAAAAAAAAAAAAAAAAAAAAAAAAAAAAAAAAAAAAAAAAAAAAAAAAAAAAAAAAAAAAAAAAAAAAAAAAAAAAAAAAAAAAAAAAAAAAAAAAAAAAAAAAAAAAAAAAAAAAAAAAAAAAAAAAAAAAAAAAAAAAAAAAAAAAAAAAAAAAAAAAAAAAAAAAAAAAAAAAAAAAAAAAAAAAAAAAAAAAAAAAAAAAAAAAAAAAAAAAAAAAAAAAAAAAAAAAAAAAAAAAAAAAAAAAAAAAAAAAAAAAAAAAAAAAAAAAAAAAAAAAAAAAAAAAAAAAAAAAAAAAAAAAAAAAAAAAAAAAAAAAAAAAAAAAAAAAAAAAAAAAAAAAAAAAAAAAAAAAAAAAAAAAAAAAAAAAAAAAAAAAAAAAAAAAAAAAAAAAAAAAAAAAAAAAAAAAAAAAAAAAAAAAAAAAAAAAAAAAAAAAAAAAAAAAAAAAAAAAAAAAAAAAAAAAAAAAAAAAAAAAAAAAAAAAAAAAAAAAAAAAAAAAAAAAAAAAAAAAAAAAAAAAAAAAAAAAAAAAAAAAAAAAAAAAAAAAAAAAAAAAAAAAAAAAAAAAAAAAAAAAAAAAAAAAAAAAAAAAAAAAAAAAAAAAAAAAAAAAAAAAAAAAAAAAAAAAAAAAAAAAAAAAAAAAAAAAAAAAAAAAAAAAAAAAAAAAAAAAAAAAAAAAAAAAAAAAAAAAAAAAAAAAAAAAAAAAAAAAAAAAAAAAAAAAAAAAAAAAAAAAAAAAAAAAAAAAAAAAAAAAAAAAAAAAAAAAAAAAAAAAAAAAAAAAAAAAAAAAAAAAAAAAAAAAAAAAAAAAAAAAAAAAAAAAAAAAAAAAAAAAAAAAAAAAAAAAAAAAAAAAAAAAAAAAAAAAAAAAAAAAAAAAAAAAAAAAAAAAAAAAAAAAAAAAAAAAAAAAAAAAAAAAAAAAAAAAAAAAAAAAAAAAAAAAAAAAAAAAAAAAAAAAAAAAAAAAAAAAAAAAAAAAAAAAAAAAAAAAAAAAAAAAAAAAAAAAAAAAAAAAAAAAAAAAAAAAAAAAAAAAAAAAAAAAAAAAAAAAAAAAAAAAAAAAAAAAAAAAAAAAAAAAAAAAAAAAAAAAAAAAAAAAAAAAAAAAAAAAAAAAAAAAAAAAAAAAAAAAAAAAAAAAAAAAAAAAAAAAAAAAAAAAAAAAAAAAAAAAAAAAAAAAAAAAAAAAAAAAAAAAAAAAAAAAAAAAAAAAAAAAAAAAAAAAAAAAAAAAAAAAAAAAAAAAAAAAAAAAAAAAAAAAAAAAAAAAAAAAAAAAAAAAAAAAAAAAAAAAAAAAAAAAAAAAAAAAAAAAAAAAAAAAAAAAAAAAAAAAAAAAAAAAAAAAAAAAAAAAAAAAAAAAAAAAAAAAAAAAAAAAAAAAAAAAAAAAAAAAAAAAAAAAAAAAAAAAAAAAAAAAAAAAAAAAAAAAAAAAAAAAAAAAAAAAAAAAAAAAAAAAAAAAAAAAAAAAAAAAAAAAAAAAAAAAAAAAAAAAAAAAAAAAAAAAAAAAAAAAAAAAAAAAAAAAAAAAAAAAAAAAAAAAAAAAAAAAAAAAAAAAAAAAAAAAAAAAAAAAAAAAAAAAAAAAAAAAAAAAAAAAAAAAAAAAAAAAAAAAAAAAAAAAAAAAAAAAAAAAAAAAAAAAAAAAAAAAAAAAAAAAAAAAAAAAAAAAAAAAAAAAAAAAAAAAAAAAAAAAAAAAAAAAAAAAAAAAAAAAAAAAAAAAAAAAAAAAAAAAAAAAAAAAAAAAAAAAAAAAAAAAAAAAAAAAAAAAAAAAAAAAAAAAAAAAAAAAAAAAAAAAAAAAAAAAAAAAAAAAAAAAAAAAAAAAAAAAAAAAAAAAAAAAAAAAAAAAAAAAAAAAAAAAAAAAAAAAAAAAAAAAAAAAAAAAAAAAAAAAAAAAAAAAAAAAAAAAAAAAAAAAAAAAAAAAAAAAAAAAAAAAAAAAAAAAAAAAAAAAAAAAAAAAAAAAAAAAAAAAAAAAAAAAAAAAAAAAAAAAAAAAAAAAAAAAAAAAAAAAAAAAAAAAAAAAAAAAAAAAAAAAAAAAAAAAAAAAAAAAAAAAAAAAAAAAAAAAAAAAAAAAAAAAAAAAAAAAAAAAAAAAAAAAAAAAAAAAAAAAAAAAAAAAAAAAAAAAAAAAAAAAAAAAAAAAAAAAAAAAAAAAAAAAAAAAAAAAAAAAAAAAAAAAAAAAAAENyaXN0IENhcwAABZADAAIAAAAUAAAQopAEAAIAAAAUAAAQtpKRAAIAAAADODQAAJKSAAIAAAADODQAAOocAAcAAAgMAAAIlgAAAAAc6gAAAAgAAAAAAAAAAAAAAAAAAAAAAAAAAAAAAAAAAAAAAAAAAAAAAAAAAAAAAAAAAAAAAAAAAAAAAAAAAAAAAAAAAAAAAAAAAAAAAAAAAAAAAAAAAAAAAAAAAAAAAAAAAAAAAAAAAAAAAAAAAAAAAAAAAAAAAAAAAAAAAAAAAAAAAAAAAAAAAAAAAAAAAAAAAAAAAAAAAAAAAAAAAAAAAAAAAAAAAAAAAAAAAAAAAAAAAAAAAAAAAAAAAAAAAAAAAAAAAAAAAAAAAAAAAAAAAAAAAAAAAAAAAAAAAAAAAAAAAAAAAAAAAAAAAAAAAAAAAAAAAAAAAAAAAAAAAAAAAAAAAAAAAAAAAAAAAAAAAAAAAAAAAAAAAAAAAAAAAAAAAAAAAAAAAAAAAAAAAAAAAAAAAAAAAAAAAAAAAAAAAAAAAAAAAAAAAAAAAAAAAAAAAAAAAAAAAAAAAAAAAAAAAAAAAAAAAAAAAAAAAAAAAAAAAAAAAAAAAAAAAAAAAAAAAAAAAAAAAAAAAAAAAAAAAAAAAAAAAAAAAAAAAAAAAAAAAAAAAAAAAAAAAAAAAAAAAAAAAAAAAAAAAAAAAAAAAAAAAAAAAAAAAAAAAAAAAAAAAAAAAAAAAAAAAAAAAAAAAAAAAAAAAAAAAAAAAAAAAAAAAAAAAAAAAAAAAAAAAAAAAAAAAAAAAAAAAAAAAAAAAAAAAAAAAAAAAAAAAAAAAAAAAAAAAAAAAAAAAAAAAAAAAAAAAAAAAAAAAAAAAAAAAAAAAAAAAAAAAAAAAAAAAAAAAAAAAAAAAAAAAAAAAAAAAAAAAAAAAAAAAAAAAAAAAAAAAAAAAAAAAAAAAAAAAAAAAAAAAAAAAAAAAAAAAAAAAAAAAAAAAAAAAAAAAAAAAAAAAAAAAAAAAAAAAAAAAAAAAAAAAAAAAAAAAAAAAAAAAAAAAAAAAAAAAAAAAAAAAAAAAAAAAAAAAAAAAAAAAAAAAAAAAAAAAAAAAAAAAAAAAAAAAAAAAAAAAAAAAAAAAAAAAAAAAAAAAAAAAAAAAAAAAAAAAAAAAAAAAAAAAAAAAAAAAAAAAAAAAAAAAAAAAAAAAAAAAAAAAAAAAAAAAAAAAAAAAAAAAAAAAAAAAAAAAAAAAAAAAAAAAAAAAAAAAAAAAAAAAAAAAAAAAAAAAAAAAAAAAAAAAAAAAAAAAAAAAAAAAAAAAAAAAAAAAAAAAAAAAAAAAAAAAAAAAAAAAAAAAAAAAAAAAAAAAAAAAAAAAAAAAAAAAAAAAAAAAAAAAAAAAAAAAAAAAAAAAAAAAAAAAAAAAAAAAAAAAAAAAAAAAAAAAAAAAAAAAAAAAAAAAAAAAAAAAAAAAAAAAAAAAAAAAAAAAAAAAAAAAAAAAAAAAAAAAAAAAAAAAAAAAAAAAAAAAAAAAAAAAAAAAAAAAAAAAAAAAAAAAAAAAAAAAAAAAAAAAAAAAAAAAAAAAAAAAAAAAAAAAAAAAAAAAAAAAAAAAAAAAAAAAAAAAAAAAAAAAAAAAAAAAAAAAAAAAAAAAAAAAAAAAAAAAAAAAAAAAAAAAAAAAAAAAAAAAAAAAAAAAAAAAAAAAAAAAAAAAAAAAAAAAAAAAAAAAAAAAAAAAAAAAAAAAAAAAAAAAAAAAAAAAAAAAAAAAAAAAAAAAAAAAAAAAAAAAAAAAAAAAAAAAAAAAAAAAAAAAAAAAAAAAAAAAAAAAAAAAAAAAAAAAAAAAAAAAAAAAAAAAAAAAAAAAAAAAAAAAAAAAAAAAAAAAAAAAAAAAAAAAAAAAAAAAAAAAAAAAAAAAAAAAAAAAAAAAAAAAAAAAAAAAAAAAAAAAAAAAAAAAAAAAAAAAAAAAAAAAAAAAAAAAAAAAAAAAAAAAAAAAAAAAAAAAAAAAAAAAAAAAAAAAAAAAAAAAAAAAAAAAAAAAAAAAAAAAAAAAAAAAAAAAAAAAAAAAAAAAAAAAAAAAAAAAAAAAAAAAAAAAAAAAAAAAAAAAAAAAAAAAAAAAAAAAAAAAAAAAAAAAAAAAAAAAAAAAAAAAAAAAAAAAAAAAAAAAAAAAAAAAAAAAAAAAAAAAAAAAAAAAAAAAAAAAAAAAAAAAAAAAAAAAAAAAAAAAAAAAAAAAAAAAAAAAAAAAAAAAAAAAAAAAAAAAAAAAAAAAAAAAAAAAAAAAAAAAAAAAAAAAAAAAAAAAAAAAAAAAAAAAAAAAAAAAAAAAAAAAAAAAAAAAAAAAAAAAAAAAAAAAAAAAAAAAAAAAAAAAAAAAAAAAAAAAAAAAAAAAAAAAAAAAAAAAAAAAAAAAAAAAAAAAAAAAAAAAAAAAAAAAAAAAAAAAAAAAAAAAAAAAAAAAAAAAAAAAAAAAAAAAAAAAAAAAAAAAAAAAAAAAAAAAAAAAAAAAAAAAAAAAAAAAAAAAAAAAAAAAAAAAAAAAAAAAAAAAAAAAAAAAAAAAAAAAAAAAAAAAAAAAAAAAAAAAAAAAAAAAAAAAAAAAAAAAAAAAAAAAAAAAAAAAAAAAAAAAAAAAAAAAAAAAAAAAAAAAAAAAAAAAAAAAAAAAAAAAAAAAAAAAAAAAAAAAAAAAAAAAAAAAAAAAAAAAAAAAAAAAAAAAAAAAAAAAAAAAAAAAAAAAAAAAAAAAAAAAAAAAAAAAAAAAAAAAAAAAAAAAAAAAAAAAAAAAAAAAAAAAAAAAAAAAAAAAAAAAAAAAAAAAAAAAAAAAAAAAAAAAAAAAAAAAAAAAAAAAAAAAAAAAAAAADIwMjI6MDk6MjEgMjA6MzM6MzcAMjAyMjowOToyMSAyMDozMzozNwAAAEMAcgBpAHMAdAAgAEMAYQBzAAAA/+ELHGh0dHA6Ly9ucy5hZG9iZS5jb20veGFwLzEuMC8APD94cGFja2V0IGJlZ2luPSfvu78nIGlkPSdXNU0wTXBDZWhpSHpyZVN6TlRjemtjOWQnPz4NCjx4OnhtcG1ldGEgeG1sbnM6eD0iYWRvYmU6bnM6bWV0YS8iPjxyZGY6UkRGIHhtbG5zOnJkZj0iaHR0cDovL3d3dy53My5vcmcvMTk5OS8wMi8yMi1yZGYtc3ludGF4LW5zIyI+PHJkZjpEZXNjcmlwdGlvbiByZGY6YWJvdXQ9InV1aWQ6ZmFmNWJkZDUtYmEzZC0xMWRhLWFkMzEtZDMzZDc1MTgyZjFiIiB4bWxuczpkYz0iaHR0cDovL3B1cmwub3JnL2RjL2VsZW1lbnRzLzEuMS8iLz48cmRmOkRlc2NyaXB0aW9uIHJkZjphYm91dD0idXVpZDpmYWY1YmRkNS1iYTNkLTExZGEtYWQzMS1kMzNkNzUxODJmMWIiIHhtbG5zOnhtcD0iaHR0cDovL25zLmFkb2JlLmNvbS94YXAvMS4wLyI+PHhtcDpDcmVhdGVEYXRlPjIwMjItMDktMjFUMjA6MzM6MzcuODM5PC94bXA6Q3JlYXRlRGF0ZT48L3JkZjpEZXNjcmlwdGlvbj48cmRmOkRlc2NyaXB0aW9uIHJkZjphYm91dD0idXVpZDpmYWY1YmRkNS1iYTNkLTExZGEtYWQzMS1kMzNkNzUxODJmMWIiIHhtbG5zOmRjPSJodHRwOi8vcHVybC5vcmcvZGMvZWxlbWVudHMvMS4xLyI+PGRjOmNyZWF0b3I+PHJkZjpTZXEgeG1sbnM6cmRmPSJodHRwOi8vd3d3LnczLm9yZy8xOTk5LzAyLzIyLXJkZi1zeW50YXgtbnMjIj48cmRmOmxpPkNyaXN0IENhczwvcmRmOmxpPjwvcmRmOlNlcT4NCgkJCTwvZGM6Y3JlYXRvcj48L3JkZjpEZXNjcmlwdGlvbj48L3JkZjpSREY+PC94OnhtcG1ldGE+DQogICAgICAgICAgICAgICAgICAgICAgICAgICAgICAgICAgICAgICAgICAgICAgICAgICAgICAgICAgICAgICAgICAgICAgICAgICAgICAgICAgICAgICAgICAgICAgICAgICAgCiAgICAgICAgICAgICAgICAgICAgICAgICAgICAgICAgICAgICAgICAgICAgICAgICAgICAgICAgICAgICAgICAgICAgICAgICAgICAgICAgICAgICAgICAgICAgICAgICAgICAKICAgICAgICAgICAgICAgICAgICAgICAgICAgICAgICAgICAgICAgICAgICAgICAgICAgICAgICAgICAgICAgICAgICAgICAgICAgICAgICAgICAgICAgICAgICAgICAgICAgIAogICAgICAgICAgICAgICAgICAgICAgICAgICAgICAgICAgICAgICAgICAgICAgICAgICAgICAgICAgICAgICAgICAgICAgICAgICAgICAgICAgICAgICAgICAgICAgICAgICAgCiAgICAgICAgICAgICAgICAgICAgICAgICAgICAgICAgICAgICAgICAgICAgICAgICAgICAgICAgICAgICAgICAgICAgICAgICAgICAgICAgICAgICAgICAgICAgICAgICAgICAKICAgICAgICAgICAgICAgICAgICAgICAgICAgICAgICAgICAgICAgICAgICAgICAgICAgICAgICAgICAgICAgICAgICAgICAgICAgICAgICAgICAgICAgICAgICAgICAgICAgIAogICAgICAgICAgICAgICAgICAgICAgICAgICAgICAgICAgICAgICAgICAgICAgICAgICAgICAgICAgICAgICAgICAgICAgICAgICAgICAgICAgICAgICAgICAgICAgICAgICAgCiAgICAgICAgICAgICAgICAgICAgICAgICAgICAgICAgICAgICAgICAgICAgICAgICAgICAgICAgICAgICAgICAgICAgICAgICAgICAgICAgICAgICAgICAgICAgICAgICAgICAKICAgICAgICAgICAgICAgICAgICAgICAgICAgICAgICAgICAgICAgICAgICAgICAgICAgICAgICAgICAgICAgICAgICAgICAgICAgICAgICAgICAgICAgICAgICAgICAgICAgIAogICAgICAgICAgICAgICAgICAgICAgICAgICAgICAgICAgICAgICAgICAgICAgICAgICAgICAgICAgICAgICAgICAgICAgICAgICAgICAgICAgICAgICAgICAgICAgICAgICAgCiAgICAgICAgICAgICAgICAgICAgICAgICAgICAgICAgICAgICAgICAgICAgICAgICAgICAgICAgICAgICAgICAgICAgICAgICAgICAgICAgICAgICAgICAgICAgICAgICAgICAKICAgICAgICAgICAgICAgICAgICAgICAgICAgICAgICAgICAgICAgICAgICAgICAgICAgICAgICAgICAgICAgICAgICAgICAgICAgICAgICAgICAgICAgICAgICAgICAgICAgIAogICAgICAgICAgICAgICAgICAgICAgICAgICAgICAgICAgICAgICAgICAgICAgICAgICAgICAgICAgICAgICAgICAgICAgICAgICAgICAgICAgICAgICAgICAgICAgICAgICAgCiAgICAgICAgICAgICAgICAgICAgICAgICAgICAgICAgICAgICAgICAgICAgICAgICAgICAgICAgICAgICAgICAgICAgICAgICAgICAgICAgICAgICAgICAgICAgICAgICAgICAKICAgICAgICAgICAgICAgICAgICAgICAgICAgICAgICAgICAgICAgICAgICAgICAgICAgICAgICAgICAgICAgICAgICAgICAgICAgICAgICAgICAgICAgICAgICAgICAgICAgIAogICAgICAgICAgICAgICAgICAgICAgICAgICAgICAgICAgICAgICAgICAgICAgICAgICAgICAgICAgICAgICAgICAgICAgICAgICAgICAgICAgICAgICAgICAgICAgICAgICAgCiAgICAgICAgICAgICAgICAgICAgICAgICAgICAgICAgICAgICAgICAgICAgICAgICAgICAgICAgICAgICAgICAgICAgICAgICAgICAgICAgICAgICAgICAgICAgICAgICAgICAKICAgICAgICAgICAgICAgICAgICAgICAgICAgICAgICAgICAgICAgICAgICAgICAgICAgICAgICAgICAgICAgICAgICAgICAgICAgICAgICAgICAgICAgICAgICAgICAgICAgIAogICAgICAgICAgICAgICAgICAgICAgICAgICAgICAgICAgICAgICAgICAgICAgICAgICAgICAgICAgICAgICAgICAgICAgICAgICAgICAgICAgICAgICAgICAgICAgICAgICAgCiAgICAgICAgICAgICAgICAgICAgICAgICAgICAgICAgICAgICAgICAgICAgICAgICAgICAgICAgICAgICAgICAgICAgICAgICAgICAgICAgICAgICAgICAgICAgICAgICAgICAKICAgICAgICAgICAgICAgICAgICAgICAgICAgIDw/eHBhY2tldCBlbmQ9J3cnPz7/2wBDAAcFBQYFBAcGBQYIBwcIChELCgkJChUPEAwRGBUaGRgVGBcbHichGx0lHRcYIi4iJSgpKywrGiAvMy8qMicqKyr/2wBDAQcICAoJChQLCxQqHBgcKioqKioqKioqKioqKioqKioqKioqKioqKioqKioqKioqKioqKioqKioqKioqKioqKir/wAARCAA7ANIDASIAAhEBAxEB/8QAHwAAAQUBAQEBAQEAAAAAAAAAAAECAwQFBgcICQoL/8QAtRAAAgEDAwIEAwUFBAQAAAF9AQIDAAQRBRIhMUEGE1FhByJxFDKBkaEII0KxwRVS0fAkM2JyggkKFhcYGRolJicoKSo0NTY3ODk6Q0RFRkdISUpTVFVWV1hZWmNkZWZnaGlqc3R1dnd4eXqDhIWGh4iJipKTlJWWl5iZmqKjpKWmp6ipqrKztLW2t7i5usLDxMXGx8jJytLT1NXW19jZ2uHi4+Tl5ufo6erx8vP09fb3+Pn6/8QAHwEAAwEBAQEBAQEBAQAAAAAAAAECAwQFBgcICQoL/8QAtREAAgECBAQDBAcFBAQAAQJ3AAECAxEEBSExBhJBUQdhcRMiMoEIFEKRobHBCSMzUvAVYnLRChYkNOEl8RcYGRomJygpKjU2Nzg5OkNERUZHSElKU1RVVldYWVpjZGVmZ2hpanN0dXZ3eHl6goOEhYaHiImKkpOUlZaXmJmaoqOkpaanqKmqsrO0tba3uLm6wsPExcbHyMnK0tPU1dbX2Nna4uPk5ebn6Onq8vP09fb3+Pn6/9oADAMBAAIRAxEAPwD6OooooAKKKKACqGsaxa6HYPeXwuDCiszGC3eXAAySdoOBgdTge9X6x/F//Ik63/2D5/8A0W1TJ2i2VFXkkXdL1CLVtItNRtldYbuFJkWQAMFYZGcE881brC8E/wDIhaD/ANg+D/0WK3a0mrSaRnF3SYUUUVJRjeIvFFh4YsmudSS6ZAAf3Fs7jkgAF8bVOT/ERWwDkZrjfix/yTe//wCukH/o1K7Jfuj6ULa/n/kDFooooAKKKKACiiigArGvvFFhYa5Z6TOl39pvJfKiItnEedpbO8gKeB/CSfatmuM8Z/8AI4+DP+v+X/0UaXVeq/MOj9GdnRRRTAKKKKACiiigAooooAK5LWNX1iw8f+HtOF3bnT9SkuN8SW+HwkWQC5Y55OeAvSutrhPFNwx+Inhi4jstRlg057n7VLDp88iJviAXBVCGyfTOO9C+JD6M7uqN1qX2bVrCx8rd9s8z592Nmxc9Mc5qzMjXFqyxTSW7Ovyyoo3J7gMCM/UVyep6Ter4p0RT4g1Jmb7RhzHbZT5B0xDjn3BoEdjVLVdJtNasmtNQEzQOCHSK4ki3gjBBKMCRg9DxT7G0mtI2W41C5vixyGuFjBX2GxFH51naxbPCZb658VXmk2oxlf8ARVij4A+9JETyeeW6n8KHbqCuXdJ0ez0SyW004TJAgARJbiSXYAMALvY4GOw4q9WLpNnJI0N9D4ovdUtWBKqRamKUYI+9HEDweeG6j8K07y3kubcxw3c1m5IPmwBCw9vnVh+lDv1BWIP7S/4qD+zPK/5dftHmbv8Ab24xj9avVx39k3v/AAnXl/8ACQalu/s3d5nl227Hm9P9TjH4Z966qzt5La3Ec13NeOCT5swQMfb5FUfpQvhT9fzYP4mvT8kUtb8Oab4itxBq8c00PeJLqWJW5yMqjAHBA61ds7SOxtVghaZkXODNM8rfizkk/nWJq0Q092uNQ8aXemQyuSiymzRF77VLw5IA9ST6mr2l2U8TC5bX7zU4ZI/kWZbfZzghgY41J/PHPSjpoBLrGp/2TZx3Bi83fcwwbd23HmSKmenbdnHtV+uN8V6TeR6TAzeINRlB1C0AV47bAJuEAPEQOR1H05zW/Fa3OmxzXM2pahqYSIkW7xwZJHPy7I1JbjAycc0fZu/60Q+pp0VTsdQN7o8V+bK6tzJH5n2aeMLMv+yVzwfbNN0zUjqWkR3xsbuzMilvs11GElXBIwVzwTj170PQW5eqjqepf2d9j/deZ9pukt/vY27s89OenSjS9QbV9JjuzaXmnNKGHk3cYSWPBIyV5A6ZH4VzniPSb1P7K3eINSk3alCo3R23ynnkYhHP1yPajql5r8w6N+T/ACOxrG1LwppWr6hFe36XT3EDb4mS+njETYxlVVwFOPQVZt9NuoYp0k1q+uGlQqjyJADEf7y7YwM/7wI46VU/sHUf+hr1j/v1Z/8AxigDZjQRRqiliFAALMWPHqTyfqagvrxrKESraXFyu7Di3UMyD+9gkE/Rcn0BqLTrC4svM+06teajvxt+0pCvl4z08uNOue+egxjmpL7UbbToVkumb522okaM7ufRVUEk/QUMAsNSs9TiZ7GdZdh2uvRoz/dZTyp9iAatVzV5pd54huI7h7caNs4S6VgbzbnO0FTtQcA4JcHuorbvkuTpNzHZv/pRgZYnbj59pwT+NJuyuNauxQl8W6HBcGGW+AIn+zeZ5bmPzf8Ann5mNu7/AGc5rZrySO1vrXwx4S02PRNTlGn3P2u/H2VxmdVdlQnHIaQ/fGVHBJr1mMuY1MihXIG5QcgH0zVWJHUUUUhhRRRQAUxoo3kSRkVnTOxiMlc9cHtT6KACsbWtIkvdU0rUf7R+yQ6ZK80sTRKyygrjkk/LgZ+b3NbNYHi3QdS8Q2ENpp2sJpkYk3zbrQT+cB0UgsBtz1Bznjt1QzI+HdnNHca/qEMbQaRqN8ZtPiYbcrjDSBeyscEewrtqw/DmialpTXc2s6z/AGtc3BQCQWwgCIoOFCqSO5Oa3KrskT3Yzyo/O83Yvmbdu/HzY64z6U+iikMwNb0orqia/aw3l5e21rJbx2cUyLFIG5+YNjuB39ODis74Ww21v8PbGKzvhehWfzGVSojcsSyYPIwTjn6960NR8NTTeJV17S75bW+FqbRvPhaaPZu3ZCh1w2e5yPap/C3hm08KaIunWTyS5kaWWaTG6R26txwPp7UR0T/rq/8Ahwf9fca0kUcyhZo1kUMGAZcgEHIP1BGafRRQAUUUUAFMkijl2+aivsYMu4Z2kdCPen0UAFcDF4t8RzyeIFki020TR4hM8skbvtJj3+SQHGWHdwQPRea76uTm8DCfw5r2mPqLiXWrqS4kuBF9zcRhMZ5ACheozz0pO+vp+I1bS/c3NB1GTV/D2n6jND5El1bpM0efullBx+taFUdJ099NsRBLcNcPuLM5G1R6Kq5O1QMADJ6dzzV6qla+hMb21CiiikMKKKKACiiigAooooAKKKKACiiigAooooAKKKKACiiigAooooAKKKKACiiigAooooAKKKKACiiigAooooAKKKKAP//Z)"
      ],
      "metadata": {
        "id": "dwZGtHUnCrzS"
      }
    },
    {
      "cell_type": "code",
      "source": [
        "#Task_4_2_9\n",
        "\n",
        "a = float(input('a = '))\n",
        "\n",
        "n = 1\n",
        "x_sum = list()\n",
        "x_sum.append(n)\n",
        "\n",
        "while sum(x_sum) <= a:\n",
        "  n = n + 1\n",
        "  g = 1 / n\n",
        "  x_sum.append(g)\n",
        "print(n)\n",
        "# Удалите комментарий и допишите код\n",
        "\n",
        "# Пример вывода:\n",
        "# a = 1.5\n",
        "# n = 3\n",
        "# a = 2\n",
        "# n = 4"
      ],
      "metadata": {
        "colab": {
          "base_uri": "https://localhost:8080/"
        },
        "id": "2AHoVmQBCr4I",
        "outputId": "4a13d732-3555-4ffc-f18d-ca3c7e4838d9"
      },
      "execution_count": null,
      "outputs": [
        {
          "output_type": "stream",
          "name": "stdout",
          "text": [
            "a = 1.5\n",
            "3\n"
          ]
        }
      ]
    },
    {
      "cell_type": "markdown",
      "source": [
        "---\n",
        "(Task 4.2.10)\n",
        "\n",
        "Дано натуральное число. Определите сумму и количество его цифр."
      ],
      "metadata": {
        "id": "u0LEusH-Cr82"
      }
    },
    {
      "cell_type": "code",
      "source": [
        "#Task_4_2_10\n",
        "\n",
        "n = list(map(int, input('n = ')))\n",
        "\n",
        "su = sum(n)\n",
        "co = len(n)\n",
        "\n",
        "print('Сумма = ', su)\n",
        "print('Количество = ', co)\n",
        "# Пример вывода:\n",
        "# n = 12345\n",
        "# Сумма = 15\n",
        "# Количество = 5"
      ],
      "metadata": {
        "colab": {
          "base_uri": "https://localhost:8080/"
        },
        "id": "InDrBaGoCsBt",
        "outputId": "e89befd6-fad7-429c-e2ec-e39bc1f6ec32"
      },
      "execution_count": null,
      "outputs": [
        {
          "output_type": "stream",
          "name": "stdout",
          "text": [
            "n = 123456789\n",
            "Сумма =  45\n",
            "Количество =  9\n"
          ]
        }
      ]
    },
    {
      "cell_type": "markdown",
      "source": [
        "---\n",
        "(Task 4.2.11)\n",
        "\n",
        "Вывести в строку 10 первых натуральных чисел, оканчивающихся на цифру k, кратных числу s и находящихся в интервале, левая граница которого равна start."
      ],
      "metadata": {
        "id": "DY3hDYwUCsGe"
      }
    },
    {
      "cell_type": "code",
      "source": [
        "#Task_4_2_11\n",
        "\n",
        "x = int(input('Значение левой границы start = '))\n",
        "k = int(input('Последняя цифра чисел = '))\n",
        "s = int(input('Значение, которому кратны числа = '))\n",
        "a = list()\n",
        "\n",
        "while x % s != 0:\n",
        "  x += 1\n",
        "else:\n",
        "  for x in range(99):\n",
        "    x += 1\n",
        "    while x % s != 0:\n",
        "      x += 1\n",
        "    else:\n",
        "      if x % 10 == k:\n",
        "        a.append(x)\n",
        "print(a[:10])\n",
        "\n",
        "# Пример вывода:\n",
        "# start = 100\n",
        "# k = 7\n",
        "# s = 9\n",
        "# 117 207 297 387 477 567 657 747 837 927"
      ],
      "metadata": {
        "colab": {
          "base_uri": "https://localhost:8080/"
        },
        "id": "VvwkzrbRCsNm",
        "outputId": "6921dd4a-e6e4-4347-d19e-02ad7f66e157"
      },
      "execution_count": null,
      "outputs": [
        {
          "output_type": "stream",
          "name": "stdout",
          "text": [
            "Значение левой границы start = 100\n",
            "Последняя цифра чисел = 7\n",
            "Значение, которому кратны числа = 9\n",
            "[27, 27, 27, 27, 27, 27, 27, 27, 27]\n"
          ]
        }
      ]
    },
    {
      "cell_type": "markdown",
      "source": [
        "---\n",
        "(Task 4.2.12)\n",
        "\n",
        "Даны целые числа a и b (a может быть больше b).\n",
        "\n",
        "Напечатайте:\n",
        "\n",
        "-Числа от минимального до максимального в строчку (разделяя пробелом);\n",
        "\n",
        "-Числа от максимального до минимального «столбиком»."
      ],
      "metadata": {
        "id": "krfwDsJ7CsSO"
      }
    },
    {
      "cell_type": "code",
      "source": [
        "#Task_4_2_12\n",
        "\n",
        "a = int(input('a = '))\n",
        "b = int(input('b = '))\n",
        "\n",
        "n = list(range(a, b + 1))\n",
        "print(n)\n",
        "n.reverse()\n",
        "print(\"\\n\".join(map(str, n)))\n",
        "# Пример вывода:\n",
        "# a = 1\n",
        "# b = 5\n",
        "# 1 2 3 4 5\n",
        "# 5\n",
        "# 4\n",
        "# 3\n",
        "# 2\n",
        "# 1"
      ],
      "metadata": {
        "id": "s7T9VT7tCsXm",
        "colab": {
          "base_uri": "https://localhost:8080/"
        },
        "outputId": "99ae4e54-4220-40cb-d006-bdecf0067f63"
      },
      "execution_count": null,
      "outputs": [
        {
          "output_type": "stream",
          "name": "stdout",
          "text": [
            "a = 1\n",
            "b = 5\n",
            "[1, 2, 3, 4, 5]\n",
            "5\n",
            "4\n",
            "3\n",
            "2\n",
            "1\n"
          ]
        }
      ]
    },
    {
      "cell_type": "markdown",
      "source": [
        "---\n",
        "(Task 4.2.13)\n",
        "\n",
        "Для введенных с клавиатуры положительных целых чисел a и b (a≤b) определите:\n",
        "\n",
        "-Сумму всех целых чисел от a до b;\n",
        "\n",
        "-Произведение всех целых чисел от a до b;\n",
        "\n",
        "-Среднее арифметическое всех целых чисел от a до b;\n",
        "\n",
        "-Среднее геометрическое нечетных чисел от a до b.\n",
        "\n",
        "Отрезок поиска включает сами числа a и b.\n",
        "\n",
        "При выводе вещественных результатов оставьте два знака после запятой."
      ],
      "metadata": {
        "id": "QpxGnC1kCscs"
      }
    },
    {
      "cell_type": "code",
      "source": [
        "#Task_4_2_13\n",
        "\n",
        "a = int(input('a = '))\n",
        "b = int(input('b = '))\n",
        "x = list(range(a, b + 1))\n",
        "n_sum = sum(x)\n",
        "n_mult = 1\n",
        "a = 0\n",
        "while a<len(x):\n",
        "  n_mult = n_mult*x[a]\n",
        "  a += 1\n",
        "\n",
        "n_avg = n_sum/len(x)\n",
        "\n",
        "print('Сумма = ', n_sum)\n",
        "print('Произведение = ', n_mult)\n",
        "print('Среднее арифметическое = ', n_avg)\n",
        "\n",
        "b = 0\n",
        "c = 0\n",
        "n_avg_geom = 1\n",
        "while b<len(x):\n",
        "  if x[b]%2==1:\n",
        "    n_avg_geom = n_avg_geom*x[b]\n",
        "    b += 2\n",
        "    c += 1\n",
        "  else:\n",
        "    b += 1\n",
        "n_avg_geom = round((n_avg_geom**(1/c)), 2)\n",
        "print('Среднее геометрическое нечетных чисел = ', n_avg_geom)\n",
        "\n",
        "# Пример вывода:\n",
        "# a = 1\n",
        "# b = 5\n",
        "# Сумма = 15\n",
        "# Произведение = 120\n",
        "# Среднее арифметическое = 3.00\n",
        "# Среднее геометрическое нечетных чисел = 2.47"
      ],
      "metadata": {
        "id": "TiZvk-wzCsiA",
        "colab": {
          "base_uri": "https://localhost:8080/"
        },
        "outputId": "f1505b65-796a-436a-ab11-fa7d202f8766"
      },
      "execution_count": 60,
      "outputs": [
        {
          "output_type": "stream",
          "name": "stdout",
          "text": [
            "a = 1\n",
            "b = 5\n",
            "Сумма =  15\n",
            "Произведение =  120\n",
            "Среднее арифметическое =  3.0\n",
            "Среднее геометрическое нечетных чисел =  2.47\n"
          ]
        }
      ]
    },
    {
      "cell_type": "markdown",
      "source": [
        "---\n",
        "(Task 4.2.14)\n",
        "\n",
        "Начав тренировки, лыжник в первый день пробежал s км. (s>0, вещественное число).\n",
        "\n",
        "Каждый следующий день он увеличивал пробег на p % (0<p≤100, вещественное число) от пробега предыдущего дня.\n",
        "\n",
        "Определите:\n",
        "\n",
        "-Пробег лыжника за второй, третий, …, десятый день тренировок;\n",
        "\n",
        "-Какой суммарный путь он пробежал за первые 10 дней тренировок.\n",
        "\n",
        "При выводе вещественных результатов оставьте один знак после запятой."
      ],
      "metadata": {
        "id": "zecwFDsvCsnA"
      }
    },
    {
      "cell_type": "code",
      "source": [
        "#Task_4_2_14\n",
        "\n",
        "s = int(input('Пробег за 1-й день (км.) = '))\n",
        "p = int(input('На сколько увеличивает пробег (%) = '))\n",
        "\n",
        "total = list()\n",
        "total.append(s)\n",
        "\n",
        "g = 0\n",
        "f = 1\n",
        "for x in range(9):\n",
        "  s = ((s*(p/100))+s)+0.0001\n",
        "  f += 1\n",
        "  total.append(s)\n",
        "print('Суммарный пробег: {:.1f} км.', total)\n",
        "\n",
        "# Пример вывода:\n",
        "# Пробег за 1-й день (км.) = 5\n",
        "# На сколько увеличивает пробег (%) = 10\n",
        "# Пробег за 2-й день: 5.5 км.\n",
        "# Пробег за 3-й день: 6.1 км.\n",
        "# Пробег за 4-й день: 6.7 км.\n",
        "# Пробег за 5-й день: 7.3 км.\n",
        "# Пробег за 6-й день: 8.1 км.\n",
        "# Пробег за 7-й день: 8.9 км.\n",
        "# Пробег за 8-й день: 9.7 км.\n",
        "# Пробег за 9-й день: 10.7 км.\n",
        "# Пробег за 10-й день: 11.8 км.\n",
        "# Суммарный пробег: 79.7 км."
      ],
      "metadata": {
        "id": "0kG11qk6Csr-",
        "colab": {
          "base_uri": "https://localhost:8080/"
        },
        "outputId": "3f08c34c-18b6-4854-e809-d257ee8f5170"
      },
      "execution_count": 69,
      "outputs": [
        {
          "output_type": "stream",
          "name": "stdout",
          "text": [
            "Пробег за 1-й день (км.) = 5\n",
            "На сколько увеличивает пробег (%) = 10\n",
            "Суммарный пробег: {:.1f} км. [5, 5.5001, 6.05021, 6.655330999999999, 7.320964099999999, 8.05316051, 8.858576561, 9.7445342171, 10.71908763881, 11.791096402691]\n"
          ]
        }
      ]
    },
    {
      "cell_type": "markdown",
      "source": [
        "---\n",
        "(Task 4.2.15)\n",
        "\n",
        "Известна масса каждого предмета в кг., загружаемого в грузовик.\n",
        "\n",
        "Определить, возможна ли перевозка груза, если грузоподъемность грузовика равна p кг."
      ],
      "metadata": {
        "id": "Sbnbyfr2Csw6"
      }
    },
    {
      "cell_type": "code",
      "source": [
        "#Task_4_2_15\n",
        "\n",
        "p = int(input('Грузоподъемность грузовика (кг.) = '))\n",
        "n = int(input('Количество предметов = '))\n",
        "\n",
        "li = list()\n",
        "for x in range(n):\n",
        "  k = int(input('Масса 1-го предмета (кг.) = '))\n",
        "  li.append(k)\n",
        "\n",
        "if sum(li)>=p:\n",
        "  print('Нет')\n",
        "else:\n",
        "  print('Да')\n",
        "\n",
        "# Пример вывода:\n",
        "# Грузоподъемность грузовика (кг.) = 10\n",
        "# Количество предметов = 2\n",
        "# Масса 1-го предмета (кг.) = 3\n",
        "# Масса 2-го предмета (кг.) = 3\n",
        "# Да"
      ],
      "metadata": {
        "id": "9iKpqn-MD_Z0",
        "colab": {
          "base_uri": "https://localhost:8080/"
        },
        "outputId": "d452cba6-1126-4199-e667-6430319475ad"
      },
      "execution_count": 70,
      "outputs": [
        {
          "output_type": "stream",
          "name": "stdout",
          "text": [
            "Грузоподъемность грузовика (кг.) = 10\n",
            "Количество предметов = 2\n",
            "Масса 1-го предмета (кг.) = 3\n",
            "Масса 1-го предмета (кг.) = 3\n",
            "Да\n"
          ]
        }
      ]
    },
    {
      "cell_type": "markdown",
      "source": [
        "---\n",
        "(Task 4.2.16)\n",
        "\n",
        "В области несколько районов.\n",
        "\n",
        "Заданы площади, засеваемые пшеницей (га.), и средняя урожайность (ц/га) в каждом районе.\n",
        "\n",
        "Определите количество пшеницы, собранное по области.\n",
        "\n",
        "При выводе вещественных результатов оставьте один знак после запятой."
      ],
      "metadata": {
        "id": "yV7yRN6CD_fQ"
      }
    },
    {
      "cell_type": "code",
      "source": [
        "#Task_4_2_16\n",
        "\n",
        "n = int(input('Количество районов = '))\n",
        "\n",
        "total = list()\n",
        "for a in range(n):\n",
        "  b = float(input('Площадь 1-го района (га) = '))\n",
        "  c = float(input('Урожайность в 1-м районе (ц/га.) = '))\n",
        "  d = b*c\n",
        "  total.append(d)\n",
        "\n",
        "print('Собрано пшеницы: ', total)\n",
        "print(sum(total))\n",
        "\n",
        "# Пример вывода:\n",
        "# Количество районов = 3\n",
        "# Площадь 1-го района (га) = 4\n",
        "# Урожайность в 1-м районе (ц/га.) = 2\n",
        "# Площадь 2-го района (га) = 7\n",
        "# Урожайность в 2-м районе (ц/га.) = 3\n",
        "# Площадь 3-го района (га) = 9\n",
        "# Урожайность в 3-м районе (ц/га.) = 4\n",
        "# Собрано пшеницы: 65.0 ц."
      ],
      "metadata": {
        "id": "jVIybofwD_kS",
        "colab": {
          "base_uri": "https://localhost:8080/"
        },
        "outputId": "35616fa5-f625-4792-8321-1524d8bb97aa"
      },
      "execution_count": 73,
      "outputs": [
        {
          "output_type": "stream",
          "name": "stdout",
          "text": [
            "Количество районов = 3\n",
            "Площадь 1-го района (га) = 4\n",
            "Урожайность в 1-м районе (ц/га.) = 2\n",
            "Площадь 1-го района (га) = 7\n",
            "Урожайность в 1-м районе (ц/га.) = 3\n",
            "Площадь 1-го района (га) = 9\n",
            "Урожайность в 1-м районе (ц/га.) = 4\n",
            "Собрано пшеницы:  [8.0, 21.0, 36.0]\n",
            "65.0\n"
          ]
        }
      ]
    },
    {
      "cell_type": "markdown",
      "source": [
        "---\n",
        "(Task 4.2.17)\n",
        "\n",
        "Решите задачу № 4.2.7, организовав бесконечный цикл, который бы прерывался при выполнении условия, используя оператор break.\n",
        "\n",
        "\"Дана непустая последовательность целых чисел, оканчивающаяся нулем.\n",
        "\n",
        "Найти сумму и количество введенных чисел.\""
      ],
      "metadata": {
        "id": "zuuMqOPnD_pC"
      }
    },
    {
      "cell_type": "code",
      "source": [
        "#Task_4_2_17\n",
        "\n",
        "nums_sum = 0\n",
        "nums_count = 0\n",
        "x = int(input('Введите число: '))\n",
        "a = list()\n",
        "while x != 0:\n",
        "  nums_count = nums_count + 1\n",
        "  a.append(x)\n",
        "  nums_sum = nums_sum + x\n",
        "  x = int(input('Введите ещё одно число'))\n",
        "  if x == 0:\n",
        "    break\n",
        "print('Сумма = ', nums_sum)\n",
        "print('Количество = ', nums_count)\n",
        "# Пример вывода:\n",
        "# Введите 1-е число: 1\n",
        "# Введите 2-е число: 2\n",
        "# Введите 3-е число: 3\n",
        "# Введите 4-е число: 4\n",
        "# Введите 5-е число: 0\n",
        "# Сумма = 10\n",
        "# Количество = 4\n",
        "# Введите 1-е число: 0\n",
        "# Сумма = 0\n",
        "# Количество = 0"
      ],
      "metadata": {
        "id": "OLzWntYwD_yS",
        "colab": {
          "base_uri": "https://localhost:8080/"
        },
        "outputId": "49fc8491-49d4-4f84-a979-bd0d399696ed"
      },
      "execution_count": 75,
      "outputs": [
        {
          "output_type": "stream",
          "name": "stdout",
          "text": [
            "Введите число: 1\n",
            "Введите ещё одно число2\n",
            "Введите ещё одно число3\n",
            "Введите ещё одно число4\n",
            "Введите ещё одно число0\n",
            "Сумма =  10\n",
            "Количество =  4\n"
          ]
        }
      ]
    },
    {
      "cell_type": "markdown",
      "source": [
        "---\n",
        "(Task 4.2.18)\n",
        "\n",
        "Предложение, введенное с клавиатуры, содержит слова из гласных и согласных букв кириллицы (регистр может быть различный), а также пробелы.\n",
        "\n",
        "Определите количество гласных и согласных букв в предложении.\n",
        "\n",
        "Для пропуска пробелов используйте оператор continue."
      ],
      "metadata": {
        "id": "QGmomCdrD_33"
      }
    },
    {
      "cell_type": "code",
      "source": [
        "#Task_4_2_18\n",
        "\n",
        "sentence = input('Введите предложение: ')\n",
        "\n",
        "count_gl = 0  # Кол-во гласных\n",
        "count_sogl = 0  # Кол-во согласных\n",
        "pr = 0\n",
        "\n",
        "for x in sentence:\n",
        "  a = x.lower()\n",
        "  if a == 'а' or a == 'я' or a == 'у' or a == 'и' or a == 'е' or a == 'о' or\\\n",
        "  a == 'ы' or a == 'э' or a == 'ю' or a == 'ё':\n",
        "    count_gl += 1\n",
        "  elif x == ' ':\n",
        "    pr += 1\n",
        "  else:\n",
        "    count_sogl += 1\n",
        "s1 = 'Гласных'\n",
        "s2 = 'Согласных'\n",
        "print('Количество букв в предложении: ', \"{} {}, {} {}\".format(s1, count_gl, s2, count_sogl))\n",
        "\n",
        "# Пример вывода:\n",
        "# Введите предложение: Программирование\n",
        "# Кол-во букв в предложении: гласных - 7, согласных - 9"
      ],
      "metadata": {
        "id": "1aRBH-_cD_-B",
        "colab": {
          "base_uri": "https://localhost:8080/"
        },
        "outputId": "82a02bfc-898a-4945-dd27-173e6563be6a"
      },
      "execution_count": 77,
      "outputs": [
        {
          "output_type": "stream",
          "name": "stdout",
          "text": [
            "Введите предложение: Программирование\n",
            "Количество букв в предложении:  Гласных 7, Согласных 9\n"
          ]
        }
      ]
    },
    {
      "cell_type": "markdown",
      "source": [
        "---\n",
        "(Task 4.2.19)\n",
        "\n",
        "Выведите на экран (в строку) все целые числа от a до b, кратные некоторому числу c."
      ],
      "metadata": {
        "id": "jnK3YGIMEAC6"
      }
    },
    {
      "cell_type": "code",
      "source": [
        "#Task_4_2_19\n",
        "\n",
        "a = int(input('a = '))\n",
        "b = int(input('b = '))\n",
        "c = int(input('c = '))\n",
        "\n",
        "g = list()\n",
        "for y in range(a, b + 1):\n",
        "  if y % c == 0:\n",
        "    g.append(y)\n",
        "print(g)\n",
        "\n",
        "# Пример вывода:\n",
        "# a = 1\n",
        "# b = 10\n",
        "# c = 2\n",
        "# 2 4 6 8 10"
      ],
      "metadata": {
        "id": "Jo4I_waeEAHc",
        "colab": {
          "base_uri": "https://localhost:8080/"
        },
        "outputId": "d6876e23-9367-4874-9461-535f6d71ef5c"
      },
      "execution_count": 82,
      "outputs": [
        {
          "output_type": "stream",
          "name": "stdout",
          "text": [
            "a = 1\n",
            "b = 10\n",
            "c = 2\n",
            "[2, 4, 6, 8, 10]\n"
          ]
        }
      ]
    },
    {
      "cell_type": "markdown",
      "source": [
        "---\n",
        "(Task 4.2.20)\n",
        "\n",
        "Выведите на экран (в строку) все трехзначные натуральные числа, сумма цифр которых равна целому числу n (0<n≤27)."
      ],
      "metadata": {
        "id": "cCIiVW0eEAM4"
      }
    },
    {
      "cell_type": "code",
      "source": [
        "#Task_4_2_20\n",
        "\n",
        "n = int(input('n = '))\n",
        "m = list()\n",
        "for x in range(100, 1000):\n",
        "  a = sum(int(e) for e in str(x))\n",
        "  if a==n:\n",
        "    m.append(x)\n",
        "\n",
        "print(m)\n",
        "# Пример вывода:\n",
        "# n = 3\n",
        "# 102 111 120 201 210 300"
      ],
      "metadata": {
        "id": "Bzjd5mWPEARf",
        "colab": {
          "base_uri": "https://localhost:8080/"
        },
        "outputId": "cb47328e-4b40-4399-a005-e9bfd9cb17f6"
      },
      "execution_count": 87,
      "outputs": [
        {
          "output_type": "stream",
          "name": "stdout",
          "text": [
            "n = 3\n",
            "[102, 111, 120, 201, 210, 300]\n"
          ]
        }
      ]
    },
    {
      "cell_type": "markdown",
      "source": [
        "---\n",
        "(Task 4.2.21)\n",
        "\n",
        "Известно количество учеников в классе и их рост (см.).\n",
        "\n",
        "Рост мальчиков условно задан отрицательными числами.\n",
        "\n",
        "Определите средний рост мальчиков и средний рост девочек.\n",
        "\n",
        "При выводе вещественных результатов оставьте один знак после запятой."
      ],
      "metadata": {
        "id": "yZUb7YXfEAWA"
      }
    },
    {
      "cell_type": "code",
      "source": [
        "#Task_4_2_21\n",
        "\n",
        "n = # Удалите комментарий и допишите код\n",
        "\n",
        "r_sr_m = 0.0\n",
        "r_sr_d = 0.0\n",
        "\n",
        "# Удалите комментарий и допишите код\n",
        "\n",
        "print(\"Средний рост мальчиков: {:.1f}\".format(r_sr_m))\n",
        "print(\"Средний рост девочек: {:.1f}\".format(r_sr_d))\n",
        "\n",
        "# Пример вывода:\n",
        "# n = 5\n",
        "# Рост 1-го ученика = 150\n",
        "# Рост 2-го ученика = -150\n",
        "# Рост 3-го ученика = 160\n",
        "# Рост 4-го ученика = 170\n",
        "# Рост 5-го ученика = 180\n",
        "# Средний рост мальчиков: 150.0\n",
        "# Средний рост девочек: 165.0"
      ],
      "metadata": {
        "id": "D2JKDWaOEAbJ"
      },
      "execution_count": null,
      "outputs": []
    },
    {
      "cell_type": "markdown",
      "source": [
        "---\n",
        "(Task 4.2.22)\n",
        "\n",
        "Даны n вещественных чисел.\n",
        "\n",
        "Определите максимальное и минимальное из них.\n",
        "\n",
        "При выводе вещественных результатов оставьте два знака после запятой."
      ],
      "metadata": {
        "id": "iR-p9qa_EAfj"
      }
    },
    {
      "cell_type": "code",
      "source": [
        "#Task_4_2_22\n",
        "\n",
        "n = # Удалите комментарий и допишите код\n",
        "\n",
        "a_max = None\n",
        "a_min = None\n",
        "\n",
        "# Удалите комментарий и допишите код\n",
        "\n",
        "print(\"Максимум: {:.2f}\".format(a_max))\n",
        "print(\"Минимум: {:.2f}\".format(a_min))\n",
        "\n",
        "# Пример вывода:\n",
        "# n = 4\n",
        "# 1-е число = 6.2\n",
        "# 2-е число = 3.8\n",
        "# 3-е число = 1.1\n",
        "# 4-е число = 9.66\n",
        "# Максимум: 9.66\n",
        "# Минимум: 1.10"
      ],
      "metadata": {
        "id": "YaKZsCCbEAkt"
      },
      "execution_count": null,
      "outputs": []
    },
    {
      "cell_type": "markdown",
      "source": [
        "---\n",
        "(Task 4.2.23)\n",
        "\n",
        "Дано натуральное число n.\n",
        "\n",
        "Определите, является ли оно членом последовательности Фибоначчи ."
      ],
      "metadata": {
        "id": "reJ3cF2UEApg"
      }
    },
    {
      "cell_type": "code",
      "source": [
        "#Task_4_2_23\n",
        "\n",
        "n = # Удалите комментарий и допишите код\n",
        "\n",
        "# Удалите комментарий и допишите код\n",
        "\n",
        "print(\"Является\" if # Удалите комментарий и допишите код else \"Не является\")\n",
        "\n",
        "# Пример вывода:\n",
        "# n = 7\n",
        "# Не является\n",
        "# n = 8\n",
        "# Является"
      ],
      "metadata": {
        "id": "zTRhS0T4EAvA"
      },
      "execution_count": null,
      "outputs": []
    },
    {
      "cell_type": "markdown",
      "source": [
        "---\n",
        "(Task 4.2.24)\n",
        "\n",
        "Дано n вещественных чисел.\n",
        "\n",
        "Определите, является ли последовательность упорядоченной по возрастанию.\n",
        "\n",
        "В случае отрицательного ответа выведите порядковый номер числа, нарушающего такую упорядоченность."
      ],
      "metadata": {
        "id": "-Xd0JXSQEAzi"
      }
    },
    {
      "cell_type": "code",
      "source": [
        "#Task_4_2_24\n",
        "\n",
        "n = # Удалите комментарий и допишите код\n",
        "\n",
        "# -1 означает, что последовательность упорядочена по возрастанию\n",
        "# Если это не так, 'index' меняется в цикле на индекс элемента,\n",
        "# нарушающего порядок\n",
        "index = -1\n",
        "\n",
        "prev = float(input(\"1-е число = \"))\n",
        "for # Удалите комментарий и допишите код\n",
        "# Удалите комментарий и допишите код\n",
        "\n",
        "# Пример вывода:\n",
        "# n = 4\n",
        "# 1-е число = 2\n",
        "# 2-е число = 4.6\n",
        "# 3-е число = 6\n",
        "# 4-е число = 8.3\n",
        "# Является\n",
        "# n = 3\n",
        "# 1-е число = 3\n",
        "# 2-е число = 3\n",
        "# 2"
      ],
      "metadata": {
        "id": "xAW5xYhGEA46"
      },
      "execution_count": null,
      "outputs": []
    },
    {
      "cell_type": "markdown",
      "source": [
        "---\n",
        "(Task 4.2.25)\n",
        "\n",
        "Выведите на экран таблицу умножения на n (2<n≤9) в виде:\n",
        "\n",
        "![image_2022-09-21_204402033.png](data:image/png;base64,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)"
      ],
      "metadata": {
        "id": "yt-JLwLsEA9K"
      }
    },
    {
      "cell_type": "code",
      "source": [
        "#Task_4_2_25\n",
        "\n",
        "n = # Удалите комментарий и допишите код\n",
        "\n",
        "# Удалите комментарий и допишите код\n",
        "\n",
        "# Пример вывода:\n",
        "# n = 5\n",
        "# 1 * 1 =  1  1 * 2 =  2  1 * 3 =  3  1 * 4 =  4  1 * 5 =  5\n",
        "# 2 * 1 =  2  2 * 2 =  4  2 * 3 =  6  2 * 4 =  8  2 * 5 = 10\n",
        "# 3 * 1 =  3  3 * 2 =  6  3 * 3 =  9  3 * 4 = 12  3 * 5 = 15\n",
        "# 4 * 1 =  4  4 * 2 =  8  4 * 3 = 12  4 * 4 = 16  4 * 5 = 20\n",
        "# 5 * 1 =  5  5 * 2 = 10  5 * 3 = 15  5 * 4 = 20  5 * 5 = 25"
      ],
      "metadata": {
        "id": "npsvUhu-EBCS"
      },
      "execution_count": null,
      "outputs": []
    },
    {
      "cell_type": "markdown",
      "source": [
        "---\n",
        "(Task 4.2.26)\n",
        "\n",
        "Выведите графическое изображения делимости чисел от 1 до n (значение n вводится с клавиатуры) - в каждой строке напечатайте очередное число и столько символов *, сколько делителей у этого числа.\n",
        "\n",
        "Например, если n=4, на экране должно быть напечатано:\n",
        "\n",
        "![image_2022-09-21_204443012.png](data:image/png;base64,iVBORw0KGgoAAAANSUhEUgAAADUAAABJCAIAAAASZPmdAAACyklEQVRoge2aMWvbQBTHX0q/QwolmjrUUyCj6aB4ekNEp66txojroJtE8wFiBA7OoNvtsYgO4jzcVC8mYAqBm7JkiBMC0jfQ2MEk2E51uubsyIH7bbaO46cnofvfk3bKsoQt5k3TAjVYPzOsnxlKv4JTREQma6cpOE3qRz2Dar9Lhl2IhqRVM4NkiOze6ewBD5Fm+Xr93lYeOSDiAKDgdTPsEyFkgtGoRYaiv7tWu3Xcf5IhTtoxCXzovmT9dNknQkDB6YXTPxfeGpSWMPcDAIBdr/99PTOtsO3Pl53KfFBw+o1dPf48isX3/ReSWqDabzvY9utr/cywfmZYPzNes1+eUZxTmz3/lU9lQnlhqKfyk7/GnYEQQsTeKGKXlcOe5tM8oxhy2Os490wrflejtb7JBCdtQQ5UA6JRiwz73mM+nS/fxqu2zv0nJ6OW877y6NN8mmcUu+AHJG5PNl2/nIf+78NB//M71aiC09TpL5dKJvT2y0JFN+CX89BnH5pJVnNUfjLBCJqUA5XfJcOThc3bRzI495TXeCPYfGqG9TPD+plh/cx4xX6SITaeT3XWj5yH/u3XqvwnGUZwGjt3AONonnTyjPrjTnwIsHcbnUAsyLOXcB0/yXDgDFVJaXP5VOn30MJqBYr813z9NCJqQ/n0QTCj/p3fSBDUeb7kf8ZXXruZlFrdf17on3qnqs3bRrH51AzrZ4b1M8P6mfHq/SRDxJDXvNbVzac5D/+v3VbjJ5Po+shTvuLX7Z/KBDEpnEMHMlp/wo+UCi7O3OP0ZpYGx+mNalw57bmuG6Szhb9maeC6bm+6OqHrBj/Vky2h3H+cXJMftT0r3f6pTBAvPsUB8SFeQ/2mvYcT1ahfOUuDlVKV5bS3XNGyLMub9PhsdZySqvwiGUbLn24sby9eCo18VXDahaiJ5iRs//PP5lMzrJ8Z1s8M62fGXzdWkwMj1/0wAAAAAElFTkSuQmCC)"
      ],
      "metadata": {
        "id": "-gTQo-cqEBIx"
      }
    },
    {
      "cell_type": "code",
      "source": [
        "#Task_4_2_26\n",
        "\n",
        "n = # Удалите комментарий и допишите код\n",
        "\n",
        "# Удалите комментарий и допишите код\n",
        "\n",
        "# Пример вывода:\n",
        "# n = 10\n",
        "# 1 *\n",
        "# 2 **\n",
        "# 3 **\n",
        "# 4 ***\n",
        "# 5 **\n",
        "# 6 ****\n",
        "# 7 **\n",
        "# 8 ****\n",
        "# 9 ***\n",
        "# 10 ****"
      ],
      "metadata": {
        "id": "nM3TnzXKEBPQ"
      },
      "execution_count": null,
      "outputs": []
    },
    {
      "cell_type": "markdown",
      "source": [
        "---\n",
        "(Task 4.2.27)\n",
        "\n",
        "Выведите на экран (в строку) n первых простых чисел."
      ],
      "metadata": {
        "id": "2yNszgohEagI"
      }
    },
    {
      "cell_type": "code",
      "source": [
        "#Task_4_2_27\n",
        "\n",
        "n = # Удалите комментарий и допишите код\n",
        "\n",
        "# Удалите комментарий и допишите код\n",
        "\n",
        "# Пример вывода:\n",
        "# n = 10\n",
        "# 2 3 5 7 11 13 17 19 23 29"
      ],
      "metadata": {
        "id": "VocX3X7iEa5O"
      },
      "execution_count": null,
      "outputs": []
    },
    {
      "cell_type": "markdown",
      "source": [
        "---\n",
        "(Task 4.2.28)\n",
        "\n",
        "Дан список из n вещественных чисел, введенных с клавиатуры (среди чисел есть по крайней мере одно положительное и отрицательное число).\n",
        "\n",
        "Сформируйте из него 2 списка:\n",
        "\n",
        "-Положительных чисел, используя списковые включения;\n",
        "\n",
        "-Отрицательных чисел, не используя списковые включения.\n",
        "\n",
        "Выведите на экран:\n",
        "\n",
        "-Исходный список;\n",
        "\n",
        "-Получившиеся списки;\n",
        "\n",
        "-Среднее арифметическое первого списка и среднее геометрическое второго списка.\n",
        "\n",
        "При выводе вещественных результатов оставьте два знака после запятой."
      ],
      "metadata": {
        "id": "hH9DN2GxEbAW"
      }
    },
    {
      "cell_type": "code",
      "source": [
        "#Task_4_2_28\n",
        "\n",
        "k = # Удалите комментарий и допишите код\n",
        "\n",
        "# Удалите комментарий и допишите код\n",
        "\n",
        "# Пример вывода:\n",
        "# k = 30\n",
        "# x =  4, y = 10, z = 28\n",
        "# x =  4, y = 20, z = 22\n",
        "# x =  4, y = 22, z = 20\n",
        "# x =  4, y = 28, z = 10\n",
        "# x = 10, y =  4, z = 28\n",
        "# x = 10, y = 20, z = 20\n",
        "# x = 10, y = 28, z =  4\n",
        "# x = 20, y =  4, z = 22\n",
        "# x = 20, y = 10, z = 20\n",
        "# x = 20, y = 20, z = 10\n",
        "# x = 20, y = 22, z =  4\n",
        "# x = 22, y =  4, z = 20\n",
        "# x = 22, y = 20, z =  4\n",
        "# x = 28, y =  4, z = 10\n",
        "# x = 28, y = 10, z =  4"
      ],
      "metadata": {
        "id": "wLZIA0WgEbIG"
      },
      "execution_count": null,
      "outputs": []
    }
  ]
}